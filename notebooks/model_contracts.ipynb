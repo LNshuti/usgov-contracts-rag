{
 "cells": [
  {
   "cell_type": "code",
   "execution_count": null,
   "metadata": {},
   "outputs": [],
   "source": [
    "pip install duckdb pandas matplotlib seaborn statsmodels scipy --quiet"
   ]
  },
  {
   "cell_type": "code",
   "execution_count": 6,
   "metadata": {},
   "outputs": [],
   "source": [
    "import duckdb\n",
    "import pandas as pd\n",
    "import seaborn as sns\n",
    "import matplotlib.pyplot as plt\n",
    "import seaborn as sns\n",
    "import statsmodels.api as sm\n",
    "import numpy as np\n",
    "\n",
    "# Connect to the DuckDB database\n",
    "con = duckdb.connect(database='gov-contracts.db', read_only=True)"
   ]
  },
  {
   "cell_type": "code",
   "execution_count": null,
   "metadata": {},
   "outputs": [],
   "source": [
    "# Query to select relevant columns\n",
    "query = '''\n",
    "SELECT \n",
    "    department_ind_agency,\n",
    "    cgac,\n",
    "    sub_tier,\n",
    "    fpds_code,\n",
    "    office,\n",
    "    aac_code,\n",
    "    posteddate,\n",
    "    type,\n",
    "    basetype,\n",
    "    popstreetaddress,\n",
    "    popcity,\n",
    "    popstate,\n",
    "    popzip,\n",
    "    popcountry,\n",
    "    active,\n",
    "    awardnumber,\n",
    "    awarddate,\n",
    "    award,\n",
    "    awardee,\n",
    "    state,\n",
    "    city,\n",
    "    zipcode,\n",
    "    countrycode\n",
    "FROM \n",
    "    ContractOpportunitiesFull\n",
    "WHERE\n",
    "    award IS NOT NULL\n",
    "'''\n",
    "\n",
    "# Execute the query and load data into a DataFrame\n",
    "df = con.execute(query).fetchdf()\n",
    "df"
   ]
  },
  {
   "cell_type": "code",
   "execution_count": null,
   "metadata": {},
   "outputs": [],
   "source": [
    "# Load data# Check for missing values\n",
    "missing_values = df.isnull().sum()\n",
    "print(missing_values)"
   ]
  },
  {
   "cell_type": "code",
   "execution_count": null,
   "metadata": {},
   "outputs": [],
   "source": [
    "# For simplicity, drop rows with missing values in key columns\n",
    "df = df.dropna(subset=['award', 'cgac', 'awardee', 'state'])\n",
    "df"
   ]
  },
  {
   "cell_type": "code",
   "execution_count": null,
   "metadata": {},
   "outputs": [],
   "source": [
    "# Convert 'awarddate' and 'posteddate' to datetime\n",
    "df['awarddate'] = pd.to_datetime(df['awarddate'], errors='coerce')\n",
    "df['posteddate'] = pd.to_datetime(df['posteddate'], errors='coerce')\n",
    "\n",
    "# Convert 'award' to numeric\n",
    "df['award'] = pd.to_numeric(df['award'], errors='coerce')\n",
    "\n",
    "# Drop rows with invalid dates or award amounts\n",
    "df = df.dropna(subset=['awarddate', 'posteddate', 'award'])\n",
    "df"
   ]
  },
  {
   "cell_type": "code",
   "execution_count": null,
   "metadata": {},
   "outputs": [],
   "source": [
    "# List of categorical variables to encode\n",
    "categorical_vars = ['department_ind_agency', 'sub_tier', 'type', 'basetype', 'popstate', 'popcountry', 'active', 'awardee', 'state', 'countrycode']\n",
    "\n",
    "# Use one-hot encoding\n",
    "df_encoded = pd.get_dummies(df, columns=categorical_vars, drop_first=True)\n",
    "df_encoded"
   ]
  },
  {
   "cell_type": "code",
   "execution_count": null,
   "metadata": {},
   "outputs": [],
   "source": [
    "# Histogram of award amounts\n",
    "plt.figure(figsize=(10, 6))\n",
    "sns.histplot(df['award'], bins=50, kde=True)\n",
    "plt.title('Distribution of Award Amounts')\n",
    "plt.xlabel('Award Amount')\n",
    "plt.ylabel('Frequency')\n",
    "plt.show()"
   ]
  },
  {
   "cell_type": "code",
   "execution_count": null,
   "metadata": {},
   "outputs": [],
   "source": [
    "# Top 10 states by total award amount\n",
    "state_awards = df.groupby('state')['award'].sum().sort_values(ascending=False).head(10)\n",
    "\n",
    "plt.figure(figsize=(12, 6))\n",
    "state_awards.plot(kind='bar')\n",
    "plt.title('Top 10 States by Total Award Amount')\n",
    "plt.xlabel('State')\n",
    "plt.ylabel('Total Award Amount')\n",
    "plt.show()"
   ]
  },
  {
   "cell_type": "code",
   "execution_count": null,
   "metadata": {},
   "outputs": [],
   "source": [
    "# Top 10 awardees by total award amount\n",
    "awardee_awards = df.groupby('awardee')['award'].sum().sort_values(ascending=False).head(10)\n",
    "\n",
    "plt.figure(figsize=(12, 6))\n",
    "awardee_awards.plot(kind='bar')\n",
    "plt.title('Top 10 Awardees by Total Award Amount')\n",
    "plt.xlabel('Awardee')\n",
    "plt.ylabel('Total Award Amount')\n",
    "plt.show()"
   ]
  },
  {
   "cell_type": "code",
   "execution_count": 17,
   "metadata": {},
   "outputs": [],
   "source": [
    "# Dependent variable\n",
    "Y = df_encoded['award']\n",
    "\n",
    "# Independent variables (selecting a subset for simplicity)\n",
    "X = df_encoded[['cgac'] + [col for col in df_encoded.columns if 'state_' in col or 'type_' in col]]\n",
    "\n",
    "# Add constant term\n",
    "X = sm.add_constant(X)"
   ]
  },
  {
   "cell_type": "code",
   "execution_count": null,
   "metadata": {},
   "outputs": [],
   "source": [
    "Xs"
   ]
  },
  {
   "cell_type": "code",
   "execution_count": null,
   "metadata": {},
   "outputs": [],
   "source": [
    "Y"
   ]
  },
  {
   "cell_type": "code",
   "execution_count": null,
   "metadata": {},
   "outputs": [],
   "source": [
    "# Example data\n",
    "# Replace these with your actual data\n",
    "Y = np.array([1, 2, 3, 4, 5])\n",
    "X = np.array([1, 2, 3, 4, 5])\n",
    "\n",
    "# Add a constant to the independent variable matrix\n",
    "X = sm.add_constant(X)\n",
    "\n",
    "# Fit the model\n",
    "model = sm.OLS(Y, X).fit()\n",
    "\n",
    "# Summary of the model\n",
    "print(model.summary())"
   ]
  },
  {
   "cell_type": "code",
   "execution_count": null,
   "metadata": {},
   "outputs": [],
   "source": [
    "# Plot residuals\n",
    "plt.figure(figsize=(10, 6))\n",
    "sns.residplot(x=model.fittedvalues, y=model.resid, lowess=True)\n",
    "plt.xlabel('Fitted Values')\n",
    "plt.ylabel('Residuals')\n",
    "plt.title('Residuals vs Fitted Values')\n",
    "plt.show()"
   ]
  },
  {
   "cell_type": "code",
   "execution_count": null,
   "metadata": {},
   "outputs": [],
   "source": [
    "import scipy.stats as stats\n",
    "\n",
    "# QQ plot\n",
    "sm.qqplot(model.resid, line='s')\n",
    "plt.title('QQ Plot of Residuals')\n",
    "plt.show()"
   ]
  }
 ],
 "metadata": {
  "kernelspec": {
   "display_name": "gov-data",
   "language": "python",
   "name": "python3"
  },
  "language_info": {
   "codemirror_mode": {
    "name": "ipython",
    "version": 3
   },
   "file_extension": ".py",
   "mimetype": "text/x-python",
   "name": "python",
   "nbconvert_exporter": "python",
   "pygments_lexer": "ipython3",
   "version": "3.11.9"
  }
 },
 "nbformat": 4,
 "nbformat_minor": 2
}
