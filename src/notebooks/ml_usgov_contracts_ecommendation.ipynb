{
 "cells": [
  {
   "cell_type": "code",
   "execution_count": 92,
   "metadata": {
    "colab": {
     "base_uri": "https://localhost:8080/"
    },
    "id": "974G-sutf_i2",
    "outputId": "b4e32f32-757e-47d7-a658-8d85c7601851"
   },
   "outputs": [],
   "source": [
    "!pip install hnswlib polars  --quiet\n",
    "!pip install shap gradio --quiet"
   ]
  },
  {
   "cell_type": "code",
   "execution_count": 93,
   "metadata": {
    "colab": {
     "base_uri": "https://localhost:8080/"
    },
    "id": "t96N9I0pHDdW",
    "outputId": "2f7c716a-8b51-4baa-a053-bbeb56b00b4d"
   },
   "outputs": [],
   "source": [
    "#  Import libraries\n",
    "import warnings\n",
    "import pandas as pd\n",
    "import numpy as np\n",
    "import matplotlib.pyplot as plt\n",
    "import seaborn as sns\n",
    "import gradio as gr\n",
    "import hnswlib\n",
    "import polars as pl\n",
    "\n",
    "import re\n",
    "from sklearn.metrics import mean_squared_error, r2_score\n",
    "import xgboost as xgb\n",
    "\n",
    "from scipy.spatial import distance\n",
    "from sklearn.preprocessing import StandardScaler, OneHotEncoder, LabelEncoder\n",
    "from sklearn.impute import SimpleImputer\n",
    "from sklearn.decomposition import PCA\n",
    "from sklearn.datasets import load_breast_cancer\n",
    "from sklearn.ensemble import RandomForestRegressor\n",
    "from sklearn.model_selection import train_test_split\n",
    "import shap\n",
    "\n",
    "# Suppress warnings\n",
    "warnings.filterwarnings(\"ignore\")"
   ]
  },
  {
   "cell_type": "code",
   "execution_count": 94,
   "metadata": {
    "colab": {
     "base_uri": "https://localhost:8080/"
    },
    "id": "flo6rmd49-38",
    "outputId": "c0b76aaa-a96f-4ef5-99fd-09ecf5976d00"
   },
   "outputs": [
    {
     "data": {
      "text/html": [
       "<div><style>\n",
       ".dataframe > thead > tr,\n",
       ".dataframe > tbody > tr {\n",
       "  text-align: right;\n",
       "  white-space: pre-wrap;\n",
       "}\n",
       "</style>\n",
       "<small>shape: (323_030, 47)</small><table border=\"1\" class=\"dataframe\"><thead><tr><th>NoticeId</th><th>Title</th><th>Sol#</th><th>Department/Ind.Agency</th><th>CGAC</th><th>Sub-Tier</th><th>FPDS Code</th><th>Office</th><th>AAC Code</th><th>PostedDate</th><th>Type</th><th>BaseType</th><th>ArchiveType</th><th>ArchiveDate</th><th>SetASideCode</th><th>SetASide</th><th>ResponseDeadLine</th><th>NaicsCode</th><th>ClassificationCode</th><th>PopStreetAddress</th><th>PopCity</th><th>PopState</th><th>PopZip</th><th>PopCountry</th><th>Active</th><th>AwardNumber</th><th>AwardDate</th><th>Award$</th><th>Awardee</th><th>PrimaryContactTitle</th><th>PrimaryContactFullname</th><th>PrimaryContactEmail</th><th>PrimaryContactPhone</th><th>PrimaryContactFax</th><th>SecondaryContactTitle</th><th>SecondaryContactFullname</th><th>SecondaryContactEmail</th><th>SecondaryContactPhone</th><th>SecondaryContactFax</th><th>OrganizationType</th><th>State</th><th>City</th><th>ZipCode</th><th>CountryCode</th><th>AdditionalInfoLink</th><th>Link</th><th>Description</th></tr><tr><td>str</td><td>str</td><td>str</td><td>str</td><td>i64</td><td>str</td><td>str</td><td>str</td><td>str</td><td>str</td><td>str</td><td>str</td><td>str</td><td>str</td><td>str</td><td>str</td><td>str</td><td>str</td><td>str</td><td>str</td><td>str</td><td>str</td><td>str</td><td>str</td><td>str</td><td>str</td><td>str</td><td>str</td><td>str</td><td>str</td><td>str</td><td>str</td><td>str</td><td>str</td><td>str</td><td>str</td><td>str</td><td>str</td><td>str</td><td>str</td><td>str</td><td>str</td><td>str</td><td>str</td><td>str</td><td>str</td><td>str</td></tr></thead><tbody><tr><td>&quot;97ec6ab3d5d4454192a8828827de6f…</td><td>&quot;Whooster Web-Based Software&quot;</td><td>&quot;HQ003422P0171&quot;</td><td>&quot;DEPT OF DEFENSE&quot;</td><td>97</td><td>&quot;WASHINGTON HEADQUARTERS SERVIC…</td><td>&quot;97F5&quot;</td><td>&quot;WASHINGTON HEADQUARTERS SERVIC…</td><td>&quot;HQ0034&quot;</td><td>&quot;2022-09-30 23:09:21.289-04&quot;</td><td>&quot;Award Notice&quot;</td><td>&quot;Special Notice&quot;</td><td>&quot;auto15&quot;</td><td>&quot;2022-10-14&quot;</td><td>&quot;&quot;</td><td>&quot;&quot;</td><td>&quot;&quot;</td><td>&quot;511210&quot;</td><td>&quot;7A21&quot;</td><td>&quot;&quot;</td><td>&quot;&quot;</td><td>&quot;&quot;</td><td>&quot;&quot;</td><td>&quot;&quot;</td><td>&quot;No&quot;</td><td>&quot;HQ003422P0171&quot;</td><td>&quot;2022-09-29&quot;</td><td>&quot;125000.00&quot;</td><td>&quot;WHOOSTER INC TX 78610-2850 USA&quot;</td><td>&quot;&quot;</td><td>&quot;Roya Sterner&quot;</td><td>&quot;roya.m.sterner.civ@mail.mil&quot;</td><td>&quot;5712254264&quot;</td><td>&quot;&quot;</td><td>&quot;&quot;</td><td>&quot;&quot;</td><td>&quot;&quot;</td><td>&quot;&quot;</td><td>&quot;&quot;</td><td>&quot;OFFICE&quot;</td><td>&quot;DC&quot;</td><td>&quot;WASHINGTON&quot;</td><td>&quot;203011000&quot;</td><td>&quot;USA&quot;</td><td>&quot;&quot;</td><td>&quot;https://sam.gov/opp/97ec6ab3d5…</td><td>&quot;The Whooster Web Based Softwar…</td></tr><tr><td>&quot;c15a7148317b44eeac210a7b640687…</td><td>&quot;Beckman Coulter Reagents and S…</td><td>&quot;W81K0222Q0162&quot;</td><td>&quot;DEPT OF DEFENSE&quot;</td><td>21</td><td>&quot;DEPT OF THE ARMY&quot;</td><td>&quot;2100&quot;</td><td>&quot;W40M RHCO PACIFIC&quot;</td><td>&quot;W81K02&quot;</td><td>&quot;2022-09-30 23:01:45.502-04&quot;</td><td>&quot;Presolicitation&quot;</td><td>&quot;Sources Sought&quot;</td><td>&quot;auto15&quot;</td><td>&quot;&quot;</td><td>&quot;&quot;</td><td>&quot;&quot;</td><td>&quot;2022-10-11T10:00:00-10:00&quot;</td><td>&quot;325413&quot;</td><td>&quot;6550&quot;</td><td>&quot;&quot;</td><td>&quot;&quot;</td><td>&quot;&quot;</td><td>&quot;&quot;</td><td>&quot;USA&quot;</td><td>&quot;No&quot;</td><td>&quot;&quot;</td><td>&quot;&quot;</td><td>&quot;&quot;</td><td>&quot;&quot;</td><td>&quot;&quot;</td><td>&quot;Megumi Kuwada&quot;</td><td>&quot;megumi.kuwada.civ@mail.mil&quot;</td><td>&quot;8084385125&quot;</td><td>&quot;&quot;</td><td>&quot;&quot;</td><td>&quot;&quot;</td><td>&quot;&quot;</td><td>&quot;&quot;</td><td>&quot;&quot;</td><td>&quot;OFFICE&quot;</td><td>&quot;HI&quot;</td><td>&quot;FORT SHAFTER&quot;</td><td>&quot;96858-5098&quot;</td><td>&quot;USA&quot;</td><td>&quot;&quot;</td><td>&quot;https://sam.gov/opp/c15a714831…</td><td>&quot;The Medical Readiness Contract…</td></tr><tr><td>&quot;bf103afa7b4b455bb1541eb450e381…</td><td>&quot;8(a) WebEOC IL5 Cloud Services…</td><td>&quot;HQ003422C0130&quot;</td><td>&quot;DEPT OF DEFENSE&quot;</td><td>97</td><td>&quot;WASHINGTON HEADQUARTERS SERVIC…</td><td>&quot;97F5&quot;</td><td>&quot;WASHINGTON HEADQUARTERS SERVIC…</td><td>&quot;HQ0034&quot;</td><td>&quot;2022-09-30 22:12:14.082-04&quot;</td><td>&quot;Award Notice&quot;</td><td>&quot;Award Notice&quot;</td><td>&quot;auto15&quot;</td><td>&quot;2022-10-14&quot;</td><td>&quot;8AN&quot;</td><td>&quot;8(a) Sole Source (FAR 19.8)&quot;</td><td>&quot;&quot;</td><td>&quot;541519&quot;</td><td>&quot;DF01&quot;</td><td>&quot;&quot;</td><td>&quot;&quot;</td><td>&quot;&quot;</td><td>&quot;&quot;</td><td>&quot;&quot;</td><td>&quot;No&quot;</td><td>&quot;HQ003422C0130&quot;</td><td>&quot;2022-09-29&quot;</td><td>&quot;4838341.62&quot;</td><td>&quot;SPAARK INC PA 17201 USA&quot;</td><td>&quot;&quot;</td><td>&quot;Roya Sterner&quot;</td><td>&quot;roya.m.sterner.civ@mail.mil&quot;</td><td>&quot;5712254264&quot;</td><td>&quot;&quot;</td><td>&quot;&quot;</td><td>&quot;&quot;</td><td>&quot;&quot;</td><td>&quot;&quot;</td><td>&quot;&quot;</td><td>&quot;OFFICE&quot;</td><td>&quot;DC&quot;</td><td>&quot;WASHINGTON&quot;</td><td>&quot;203011000&quot;</td><td>&quot;USA&quot;</td><td>&quot;&quot;</td><td>&quot;https://sam.gov/opp/bf103afa7b…</td><td>&quot;Direct Award of an 8(a) contra…</td></tr><tr><td>&quot;d1619b0084ac4d439585b727343b46…</td><td>&quot;Leslie Valve IDIQ - Sources So…</td><td>&quot;N4523A22RC04N81&quot;</td><td>&quot;DEPT OF DEFENSE&quot;</td><td>17</td><td>&quot;DEPT OF THE NAVY&quot;</td><td>&quot;1700&quot;</td><td>&quot;PUGET SOUND NAVAL SHIPYARD IMF&quot;</td><td>&quot;N4523A&quot;</td><td>&quot;2022-09-30 22:05:45.599-04&quot;</td><td>&quot;Sources Sought&quot;</td><td>&quot;Sources Sought&quot;</td><td>&quot;auto15&quot;</td><td>&quot;&quot;</td><td>&quot;&quot;</td><td>&quot;&quot;</td><td>&quot;2022-10-14T11:00:00-07:00&quot;</td><td>&quot;811310&quot;</td><td>&quot;J048&quot;</td><td>&quot;&quot;</td><td>&quot;&quot;</td><td>&quot;&quot;</td><td>&quot;&quot;</td><td>&quot;USA&quot;</td><td>&quot;No&quot;</td><td>&quot;&quot;</td><td>&quot;&quot;</td><td>&quot;&quot;</td><td>&quot;&quot;</td><td>&quot;&quot;</td><td>&quot;Bart Franklin&quot;</td><td>&quot;bart.franklin@navy.mil&quot;</td><td>&quot;3609793786&quot;</td><td>&quot;&quot;</td><td>&quot;&quot;</td><td>&quot;Chris Parker&quot;</td><td>&quot;Christopher.L.Parke1@navy.mil&quot;</td><td>&quot;3609793943&quot;</td><td>&quot;&quot;</td><td>&quot;OFFICE&quot;</td><td>&quot;WA&quot;</td><td>&quot;BREMERTON&quot;</td><td>&quot;98314-5001&quot;</td><td>&quot;USA&quot;</td><td>&quot;&quot;</td><td>&quot;https://sam.gov/opp/d1619b0084…</td><td>&quot;Puget Sound Naval Shipyard and…</td></tr><tr><td>&quot;48b6b27846bd4155990cdc2f2be335…</td><td>&quot;PFPA BALLISTIC VEST AND PLATES&quot;</td><td>&quot;HQ003422Q0206&quot;</td><td>&quot;DEPT OF DEFENSE&quot;</td><td>97</td><td>&quot;WASHINGTON HEADQUARTERS SERVIC…</td><td>&quot;97F5&quot;</td><td>&quot;WASHINGTON HEADQUARTERS SERVIC…</td><td>&quot;HQ0034&quot;</td><td>&quot;2022-09-30 21:36:36.954-04&quot;</td><td>&quot;Award Notice&quot;</td><td>&quot;Award Notice&quot;</td><td>&quot;auto15&quot;</td><td>&quot;2022-10-15&quot;</td><td>&quot;SBA&quot;</td><td>&quot;Total Small Business Set-Aside…</td><td>&quot;&quot;</td><td>&quot;315990&quot;</td><td>&quot;8415&quot;</td><td>&quot;&quot;</td><td>&quot;Washington&quot;</td><td>&quot;DC&quot;</td><td>&quot;20301&quot;</td><td>&quot;USA&quot;</td><td>&quot;No&quot;</td><td>&quot;HQ003422A0026&quot;</td><td>&quot;2022-09-30&quot;</td><td>&quot;2500000.00&quot;</td><td>&quot;SOUTHERN POLICE EQUIPMENT COMP…</td><td>&quot;&quot;</td><td>&quot;Yolnie T. Merriweather&quot;</td><td>&quot;whs.pentagon.ad.mbx.essd-secur…</td><td>&quot;7035459498&quot;</td><td>&quot;&quot;</td><td>&quot;&quot;</td><td>&quot;Monica DeGroot&quot;</td><td>&quot;whs.pentagon.ad.mbx.essd-secur…</td><td>&quot;&quot;</td><td>&quot;&quot;</td><td>&quot;OFFICE&quot;</td><td>&quot;DC&quot;</td><td>&quot;WASHINGTON&quot;</td><td>&quot;203011000&quot;</td><td>&quot;USA&quot;</td><td>&quot;&quot;</td><td>&quot;https://sam.gov/opp/48b6b27846…</td><td>&quot;This blanket purchase agreemen…</td></tr><tr><td>&hellip;</td><td>&hellip;</td><td>&hellip;</td><td>&hellip;</td><td>&hellip;</td><td>&hellip;</td><td>&hellip;</td><td>&hellip;</td><td>&hellip;</td><td>&hellip;</td><td>&hellip;</td><td>&hellip;</td><td>&hellip;</td><td>&hellip;</td><td>&hellip;</td><td>&hellip;</td><td>&hellip;</td><td>&hellip;</td><td>&hellip;</td><td>&hellip;</td><td>&hellip;</td><td>&hellip;</td><td>&hellip;</td><td>&hellip;</td><td>&hellip;</td><td>&hellip;</td><td>&hellip;</td><td>&hellip;</td><td>&hellip;</td><td>&hellip;</td><td>&hellip;</td><td>&hellip;</td><td>&hellip;</td><td>&hellip;</td><td>&hellip;</td><td>&hellip;</td><td>&hellip;</td><td>&hellip;</td><td>&hellip;</td><td>&hellip;</td><td>&hellip;</td><td>&hellip;</td><td>&hellip;</td><td>&hellip;</td><td>&hellip;</td><td>&hellip;</td><td>&hellip;</td></tr><tr><td>&quot;9f5c5ffbcf544822897d81adf4d48a…</td><td>&quot;Lease Vehicles for Marine Corp…</td><td>&quot;N4008421T2004&quot;</td><td>&quot;DEPT OF DEFENSE&quot;</td><td>17</td><td>&quot;DEPT OF THE NAVY&quot;</td><td>&quot;1700&quot;</td><td>&quot;NAVAL FAC ENGINEERING CMD FAR …</td><td>&quot;N40084&quot;</td><td>&quot;2021-10-01 01:10:15.569-04&quot;</td><td>&quot;Solicitation&quot;</td><td>&quot;Solicitation&quot;</td><td>&quot;auto15&quot;</td><td>&quot;2021-10-27&quot;</td><td>&quot;&quot;</td><td>&quot;&quot;</td><td>&quot;2021-10-12T10:00:00+09:00&quot;</td><td>&quot;532112&quot;</td><td>&quot;W023&quot;</td><td>&quot;&quot;</td><td>&quot;&quot;</td><td>&quot;&quot;</td><td>&quot;&quot;</td><td>&quot;JPN&quot;</td><td>&quot;No&quot;</td><td>&quot;&quot;</td><td>&quot;&quot;</td><td>&quot;&quot;</td><td>&quot;&quot;</td><td>&quot;&quot;</td><td>&quot;Ayako Yonashiro&quot;</td><td>&quot;Ayako.Yonashiro.JA@fe.navy.mil&quot;</td><td>&quot;0989700350&quot;</td><td>&quot;&quot;</td><td>&quot;&quot;</td><td>&quot;Kimberly Groce&quot;</td><td>&quot;Kimberly.Groce@fe.navy.mil&quot;</td><td>&quot;0989704153&quot;</td><td>&quot;&quot;</td><td>&quot;OFFICE&quot;</td><td>&quot;AP&quot;</td><td>&quot;FPO&quot;</td><td>&quot;96349-0013&quot;</td><td>&quot;USA&quot;</td><td>&quot;&quot;</td><td>&quot;https://sam.gov/opp/9f5c5ffbcf…</td><td>&quot;The Contractor shall provide q…</td></tr><tr><td>&quot;2e2ab5512120475dba81379f508400…</td><td>&quot;Replace Perimeter Boundary Wal…</td><td>&quot;W90VN921R0094&quot;</td><td>&quot;DEPT OF DEFENSE&quot;</td><td>21</td><td>&quot;DEPT OF THE ARMY&quot;</td><td>&quot;2100&quot;</td><td>&quot;411TH CONTRACTING SUPORT BRIGA…</td><td>&quot;W91QVN&quot;</td><td>&quot;2021-10-01 00:20:35.287-04&quot;</td><td>&quot;Combined Synopsis/Solicitation&quot;</td><td>&quot;Combined Synopsis/Solicitation&quot;</td><td>&quot;auto15&quot;</td><td>&quot;2021-11-02&quot;</td><td>&quot;&quot;</td><td>&quot;&quot;</td><td>&quot;2021-10-18T13:00:00+09:00&quot;</td><td>&quot;238140&quot;</td><td>&quot;Z2PZ&quot;</td><td>&quot;&quot;</td><td>&quot;APO, AE&quot;</td><td>&quot;&quot;</td><td>&quot;96218&quot;</td><td>&quot;KOR&quot;</td><td>&quot;No&quot;</td><td>&quot;&quot;</td><td>&quot;&quot;</td><td>&quot;&quot;</td><td>&quot;&quot;</td><td>&quot;&quot;</td><td>&quot;Raul Medina&quot;</td><td>&quot;raul.medina45.mil@mail.mil&quot;</td><td>&quot;05033635684&quot;</td><td>&quot;&quot;</td><td>&quot;&quot;</td><td>&quot;&quot;</td><td>&quot;&quot;</td><td>&quot;&quot;</td><td>&quot;&quot;</td><td>&quot;OFFICE&quot;</td><td>&quot;AP&quot;</td><td>&quot;APO&quot;</td><td>&quot;96271-5289&quot;</td><td>&quot;USA&quot;</td><td>&quot;&quot;</td><td>&quot;https://sam.gov/opp/2e2ab55121…</td><td>&quot;REPLACE PERIMETER BOUNDARY WAL…</td></tr><tr><td>&quot;bb24f68bc7e542c7bf1301c44fd0b1…</td><td>&quot;Monaco Upgrade, McConnell AFB&quot;</td><td>&quot;FA462121P0062&quot;</td><td>&quot;DEPT OF DEFENSE&quot;</td><td>57</td><td>&quot;DEPT OF THE AIR FORCE&quot;</td><td>&quot;5700&quot;</td><td>&quot;FA4621  22 CONS PK&quot;</td><td>&quot;FA4621&quot;</td><td>&quot;2021-10-01 00:12:23.278-04&quot;</td><td>&quot;Justification&quot;</td><td>&quot;Justification&quot;</td><td>&quot;auto30&quot;</td><td>&quot;2021-10-31&quot;</td><td>&quot;&quot;</td><td>&quot;&quot;</td><td>&quot;&quot;</td><td>&quot;561621&quot;</td><td>&quot;J063&quot;</td><td>&quot;&quot;</td><td>&quot;McConnell AFB&quot;</td><td>&quot;KS&quot;</td><td>&quot;67221&quot;</td><td>&quot;USA&quot;</td><td>&quot;No&quot;</td><td>&quot;FA462121P0062&quot;</td><td>&quot;2021-09-30&quot;</td><td>&quot;&quot;</td><td>&quot;&quot;</td><td>&quot;&quot;</td><td>&quot;MSgt Brandon M. Williams&quot;</td><td>&quot;brandon.williams.6@us.af.mil&quot;</td><td>&quot;3167594520&quot;</td><td>&quot;&quot;</td><td>&quot;&quot;</td><td>&quot;&quot;</td><td>&quot;&quot;</td><td>&quot;&quot;</td><td>&quot;&quot;</td><td>&quot;OFFICE&quot;</td><td>&quot;KS&quot;</td><td>&quot;MCCONNELL AFB&quot;</td><td>&quot;67221-3702&quot;</td><td>&quot;USA&quot;</td><td>&quot;&quot;</td><td>&quot;https://sam.gov/opp/bb24f68bc7…</td><td>&quot;The 22 CES requires Technology…</td></tr><tr><td>&quot;21c6761b82df4147b72d893cd89872…</td><td>&quot;Autosampler - Award Notice&quot;</td><td>&quot;12505B21Q0247-Award&quot;</td><td>&quot;AGRICULTURE, DEPARTMENT OF&quot;</td><td>12</td><td>&quot;AGRICULTURAL RESEARCH SERVICE&quot;</td><td>&quot;12H2&quot;</td><td>&quot;USDA ARS MWA AAO ACQ/PER PROP&quot;</td><td>&quot;12505B&quot;</td><td>&quot;2021-10-01 00:03:51.008-04&quot;</td><td>&quot;Award Notice&quot;</td><td>&quot;Combined Synopsis/Solicitation&quot;</td><td>&quot;auto15&quot;</td><td>&quot;2021-10-15&quot;</td><td>&quot;&quot;</td><td>&quot;&quot;</td><td>&quot;&quot;</td><td>&quot;334516&quot;</td><td>&quot;6640&quot;</td><td>&quot;&quot;</td><td>&quot;Lexington&quot;</td><td>&quot;KY&quot;</td><td>&quot;40506&quot;</td><td>&quot;USA&quot;</td><td>&quot;No&quot;</td><td>&quot;12505B21P0269&quot;</td><td>&quot;2021-09-30&quot;</td><td>&quot;9405.30&quot;</td><td>&quot;Vizocom ICT LLC CA 92019-3225 …</td><td>&quot;&quot;</td><td>&quot;Aaron Dimeo&quot;</td><td>&quot;aaron.dimeo@usda.gov&quot;</td><td>&quot;6088900067&quot;</td><td>&quot;&quot;</td><td>&quot;&quot;</td><td>&quot;&quot;</td><td>&quot;&quot;</td><td>&quot;&quot;</td><td>&quot;&quot;</td><td>&quot;OFFICE&quot;</td><td>&quot;IL&quot;</td><td>&quot;PEORIA&quot;</td><td>&quot;61604&quot;</td><td>&quot;USA&quot;</td><td>&quot;&quot;</td><td>&quot;https://sam.gov/opp/21c6761b82…</td><td>&quot;&quot;</td></tr><tr><td>&quot;4aabc1ad68094f32b4990846e2995d…</td><td>&quot;Tissue Homogenizer and Cooling…</td><td>&quot;12505B21Q0221-Award&quot;</td><td>&quot;AGRICULTURE, DEPARTMENT OF&quot;</td><td>12</td><td>&quot;AGRICULTURAL RESEARCH SERVICE&quot;</td><td>&quot;12H2&quot;</td><td>&quot;USDA ARS MWA AAO ACQ/PER PROP&quot;</td><td>&quot;12505B&quot;</td><td>&quot;2021-10-01 00:00:54.533-04&quot;</td><td>&quot;Award Notice&quot;</td><td>&quot;Combined Synopsis/Solicitation&quot;</td><td>&quot;auto15&quot;</td><td>&quot;2021-10-15&quot;</td><td>&quot;SBA&quot;</td><td>&quot;Total Small Business Set-Aside…</td><td>&quot;&quot;</td><td>&quot;334516&quot;</td><td>&quot;6630&quot;</td><td>&quot;&quot;</td><td>&quot;Madison&quot;</td><td>&quot;WI&quot;</td><td>&quot;53706&quot;</td><td>&quot;USA&quot;</td><td>&quot;No&quot;</td><td>&quot;12505B21P0267&quot;</td><td>&quot;2021-09-30&quot;</td><td>&quot;18570.00&quot;</td><td>&quot;Firstchoice Group America LLC …</td><td>&quot;&quot;</td><td>&quot;Aaron Dimeo&quot;</td><td>&quot;aaron.dimeo@usda.gov&quot;</td><td>&quot;6088900067&quot;</td><td>&quot;&quot;</td><td>&quot;&quot;</td><td>&quot;&quot;</td><td>&quot;&quot;</td><td>&quot;&quot;</td><td>&quot;&quot;</td><td>&quot;OFFICE&quot;</td><td>&quot;IL&quot;</td><td>&quot;PEORIA&quot;</td><td>&quot;61604&quot;</td><td>&quot;USA&quot;</td><td>&quot;&quot;</td><td>&quot;https://sam.gov/opp/4aabc1ad68…</td><td>&quot;&quot;</td></tr></tbody></table></div>"
      ],
      "text/plain": [
       "shape: (323_030, 47)\n",
       "┌───────────┬───────────┬───────────┬───────────┬───┬───────────┬───────────┬───────────┬──────────┐\n",
       "│ NoticeId  ┆ Title     ┆ Sol#      ┆ Departmen ┆ … ┆ CountryCo ┆ Additiona ┆ Link      ┆ Descript │\n",
       "│ ---       ┆ ---       ┆ ---       ┆ t/Ind.Age ┆   ┆ de        ┆ lInfoLink ┆ ---       ┆ ion      │\n",
       "│ str       ┆ str       ┆ str       ┆ ncy       ┆   ┆ ---       ┆ ---       ┆ str       ┆ ---      │\n",
       "│           ┆           ┆           ┆ ---       ┆   ┆ str       ┆ str       ┆           ┆ str      │\n",
       "│           ┆           ┆           ┆ str       ┆   ┆           ┆           ┆           ┆          │\n",
       "╞═══════════╪═══════════╪═══════════╪═══════════╪═══╪═══════════╪═══════════╪═══════════╪══════════╡\n",
       "│ 97ec6ab3d ┆ Whooster  ┆ HQ003422P ┆ DEPT OF   ┆ … ┆ USA       ┆           ┆ https://s ┆ The      │\n",
       "│ 5d4454192 ┆ Web-Based ┆ 0171      ┆ DEFENSE   ┆   ┆           ┆           ┆ am.gov/op ┆ Whooster │\n",
       "│ a8828827d ┆ Software  ┆           ┆           ┆   ┆           ┆           ┆ p/97ec6ab ┆ Web      │\n",
       "│ e6f…      ┆           ┆           ┆           ┆   ┆           ┆           ┆ 3d5…      ┆ Based    │\n",
       "│           ┆           ┆           ┆           ┆   ┆           ┆           ┆           ┆ Softwar… │\n",
       "│ c15a71483 ┆ Beckman   ┆ W81K0222Q ┆ DEPT OF   ┆ … ┆ USA       ┆           ┆ https://s ┆ The      │\n",
       "│ 17b44eeac ┆ Coulter   ┆ 0162      ┆ DEFENSE   ┆   ┆           ┆           ┆ am.gov/op ┆ Medical  │\n",
       "│ 210a7b640 ┆ Reagents  ┆           ┆           ┆   ┆           ┆           ┆ p/c15a714 ┆ Readines │\n",
       "│ 687…      ┆ and S…    ┆           ┆           ┆   ┆           ┆           ┆ 831…      ┆ s Contra │\n",
       "│           ┆           ┆           ┆           ┆   ┆           ┆           ┆           ┆ ct…      │\n",
       "│ bf103afa7 ┆ 8(a)      ┆ HQ003422C ┆ DEPT OF   ┆ … ┆ USA       ┆           ┆ https://s ┆ Direct   │\n",
       "│ b4b455bb1 ┆ WebEOC    ┆ 0130      ┆ DEFENSE   ┆   ┆           ┆           ┆ am.gov/op ┆ Award of │\n",
       "│ 541eb450e ┆ IL5 Cloud ┆           ┆           ┆   ┆           ┆           ┆ p/bf103af ┆ an 8(a)  │\n",
       "│ 381…      ┆ Services… ┆           ┆           ┆   ┆           ┆           ┆ a7b…      ┆ contra…  │\n",
       "│ d1619b008 ┆ Leslie    ┆ N4523A22R ┆ DEPT OF   ┆ … ┆ USA       ┆           ┆ https://s ┆ Puget    │\n",
       "│ 4ac4d4395 ┆ Valve     ┆ C04N81    ┆ DEFENSE   ┆   ┆           ┆           ┆ am.gov/op ┆ Sound    │\n",
       "│ 85b727343 ┆ IDIQ -    ┆           ┆           ┆   ┆           ┆           ┆ p/d1619b0 ┆ Naval    │\n",
       "│ b46…      ┆ Sources   ┆           ┆           ┆   ┆           ┆           ┆ 084…      ┆ Shipyard │\n",
       "│           ┆ So…       ┆           ┆           ┆   ┆           ┆           ┆           ┆ and…     │\n",
       "│ 48b6b2784 ┆ PFPA      ┆ HQ003422Q ┆ DEPT OF   ┆ … ┆ USA       ┆           ┆ https://s ┆ This     │\n",
       "│ 6bd415599 ┆ BALLISTIC ┆ 0206      ┆ DEFENSE   ┆   ┆           ┆           ┆ am.gov/op ┆ blanket  │\n",
       "│ 0cdc2f2be ┆ VEST AND  ┆           ┆           ┆   ┆           ┆           ┆ p/48b6b27 ┆ purchase │\n",
       "│ 335…      ┆ PLATES    ┆           ┆           ┆   ┆           ┆           ┆ 846…      ┆ agreemen │\n",
       "│           ┆           ┆           ┆           ┆   ┆           ┆           ┆           ┆ …        │\n",
       "│ …         ┆ …         ┆ …         ┆ …         ┆ … ┆ …         ┆ …         ┆ …         ┆ …        │\n",
       "│ 9f5c5ffbc ┆ Lease     ┆ N4008421T ┆ DEPT OF   ┆ … ┆ USA       ┆           ┆ https://s ┆ The Cont │\n",
       "│ f54482289 ┆ Vehicles  ┆ 2004      ┆ DEFENSE   ┆   ┆           ┆           ┆ am.gov/op ┆ ractor   │\n",
       "│ 7d81adf4d ┆ for       ┆           ┆           ┆   ┆           ┆           ┆ p/9f5c5ff ┆ shall    │\n",
       "│ 48a…      ┆ Marine    ┆           ┆           ┆   ┆           ┆           ┆ bcf…      ┆ provide  │\n",
       "│           ┆ Corp…     ┆           ┆           ┆   ┆           ┆           ┆           ┆ q…       │\n",
       "│ 2e2ab5512 ┆ Replace   ┆ W90VN921R ┆ DEPT OF   ┆ … ┆ USA       ┆           ┆ https://s ┆ REPLACE  │\n",
       "│ 120475dba ┆ Perimeter ┆ 0094      ┆ DEFENSE   ┆   ┆           ┆           ┆ am.gov/op ┆ PERIMETE │\n",
       "│ 81379f508 ┆ Boundary  ┆           ┆           ┆   ┆           ┆           ┆ p/2e2ab55 ┆ R        │\n",
       "│ 400…      ┆ Wal…      ┆           ┆           ┆   ┆           ┆           ┆ 121…      ┆ BOUNDARY │\n",
       "│           ┆           ┆           ┆           ┆   ┆           ┆           ┆           ┆ WAL…     │\n",
       "│ bb24f68bc ┆ Monaco    ┆ FA462121P ┆ DEPT OF   ┆ … ┆ USA       ┆           ┆ https://s ┆ The 22   │\n",
       "│ 7e542c7bf ┆ Upgrade,  ┆ 0062      ┆ DEFENSE   ┆   ┆           ┆           ┆ am.gov/op ┆ CES      │\n",
       "│ 1301c44fd ┆ McConnell ┆           ┆           ┆   ┆           ┆           ┆ p/bb24f68 ┆ requires │\n",
       "│ 0b1…      ┆ AFB       ┆           ┆           ┆   ┆           ┆           ┆ bc7…      ┆ Technolo │\n",
       "│           ┆           ┆           ┆           ┆   ┆           ┆           ┆           ┆ gy…      │\n",
       "│ 21c6761b8 ┆ Autosampl ┆ 12505B21Q ┆ AGRICULTU ┆ … ┆ USA       ┆           ┆ https://s ┆          │\n",
       "│ 2df4147b7 ┆ er -      ┆ 0247-Awar ┆ RE, DEPAR ┆   ┆           ┆           ┆ am.gov/op ┆          │\n",
       "│ 2d893cd89 ┆ Award     ┆ d         ┆ TMENT OF  ┆   ┆           ┆           ┆ p/21c6761 ┆          │\n",
       "│ 872…      ┆ Notice    ┆           ┆           ┆   ┆           ┆           ┆ b82…      ┆          │\n",
       "│ 4aabc1ad6 ┆ Tissue    ┆ 12505B21Q ┆ AGRICULTU ┆ … ┆ USA       ┆           ┆ https://s ┆          │\n",
       "│ 8094f32b4 ┆ Homogeniz ┆ 0221-Awar ┆ RE, DEPAR ┆   ┆           ┆           ┆ am.gov/op ┆          │\n",
       "│ 990846e29 ┆ er and    ┆ d         ┆ TMENT OF  ┆   ┆           ┆           ┆ p/4aabc1a ┆          │\n",
       "│ 95d…      ┆ Cooling…  ┆           ┆           ┆   ┆           ┆           ┆ d68…      ┆          │\n",
       "└───────────┴───────────┴───────────┴───────────┴───┴───────────┴───────────┴───────────┴──────────┘"
      ]
     },
     "execution_count": 94,
     "metadata": {},
     "output_type": "execute_result"
    }
   ],
   "source": [
    "# Use alternative encoding to avoid UnicodeDecodeError\n",
    "df = pl.read_csv('../data/fy2022_archived_opportunities.csv', encoding='latin-1')\n",
    "\n",
    "# Get the first 5000 rows\n",
    "#df = df.head(89000)\n",
    "df"
   ]
  },
  {
   "cell_type": "code",
   "execution_count": 95,
   "metadata": {},
   "outputs": [
    {
     "data": {
      "text/html": [
       "<div><style>\n",
       ".dataframe > thead > tr,\n",
       ".dataframe > tbody > tr {\n",
       "  text-align: right;\n",
       "  white-space: pre-wrap;\n",
       "}\n",
       "</style>\n",
       "<small>shape: (323_030, 47)</small><table border=\"1\" class=\"dataframe\"><thead><tr><th>noticeid</th><th>title</th><th>sol_</th><th>department_ind_agency</th><th>cgac</th><th>sub_tier</th><th>fpds_code</th><th>office</th><th>aac_code</th><th>posteddate</th><th>type</th><th>basetype</th><th>archivetype</th><th>archivedate</th><th>setasidecode</th><th>setaside</th><th>responsedeadline</th><th>naicscode</th><th>classificationcode</th><th>popstreetaddress</th><th>popcity</th><th>popstate</th><th>popzip</th><th>popcountry</th><th>active</th><th>awardnumber</th><th>awarddate</th><th>award_</th><th>awardee</th><th>primarycontacttitle</th><th>primarycontactfullname</th><th>primarycontactemail</th><th>primarycontactphone</th><th>primarycontactfax</th><th>secondarycontacttitle</th><th>secondarycontactfullname</th><th>secondarycontactemail</th><th>secondarycontactphone</th><th>secondarycontactfax</th><th>organizationtype</th><th>state</th><th>city</th><th>zipcode</th><th>countrycode</th><th>additionalinfolink</th><th>link</th><th>description</th></tr><tr><td>str</td><td>str</td><td>str</td><td>str</td><td>i64</td><td>str</td><td>str</td><td>str</td><td>str</td><td>str</td><td>str</td><td>str</td><td>str</td><td>str</td><td>str</td><td>str</td><td>str</td><td>str</td><td>str</td><td>str</td><td>str</td><td>str</td><td>str</td><td>str</td><td>str</td><td>str</td><td>str</td><td>str</td><td>str</td><td>str</td><td>str</td><td>str</td><td>str</td><td>str</td><td>str</td><td>str</td><td>str</td><td>str</td><td>str</td><td>str</td><td>str</td><td>str</td><td>str</td><td>str</td><td>str</td><td>str</td><td>str</td></tr></thead><tbody><tr><td>&quot;97ec6ab3d5d4454192a8828827de6f…</td><td>&quot;Whooster Web-Based Software&quot;</td><td>&quot;HQ003422P0171&quot;</td><td>&quot;DEPT OF DEFENSE&quot;</td><td>97</td><td>&quot;WASHINGTON HEADQUARTERS SERVIC…</td><td>&quot;97F5&quot;</td><td>&quot;WASHINGTON HEADQUARTERS SERVIC…</td><td>&quot;HQ0034&quot;</td><td>&quot;2022-09-30 23:09:21.289-04&quot;</td><td>&quot;Award Notice&quot;</td><td>&quot;Special Notice&quot;</td><td>&quot;auto15&quot;</td><td>&quot;2022-10-14&quot;</td><td>&quot;&quot;</td><td>&quot;&quot;</td><td>&quot;&quot;</td><td>&quot;511210&quot;</td><td>&quot;7A21&quot;</td><td>&quot;&quot;</td><td>&quot;&quot;</td><td>&quot;&quot;</td><td>&quot;&quot;</td><td>&quot;&quot;</td><td>&quot;No&quot;</td><td>&quot;HQ003422P0171&quot;</td><td>&quot;2022-09-29&quot;</td><td>&quot;125000.00&quot;</td><td>&quot;WHOOSTER INC TX 78610-2850 USA&quot;</td><td>&quot;&quot;</td><td>&quot;Roya Sterner&quot;</td><td>&quot;roya.m.sterner.civ@mail.mil&quot;</td><td>&quot;5712254264&quot;</td><td>&quot;&quot;</td><td>&quot;&quot;</td><td>&quot;&quot;</td><td>&quot;&quot;</td><td>&quot;&quot;</td><td>&quot;&quot;</td><td>&quot;OFFICE&quot;</td><td>&quot;DC&quot;</td><td>&quot;WASHINGTON&quot;</td><td>&quot;203011000&quot;</td><td>&quot;USA&quot;</td><td>&quot;&quot;</td><td>&quot;https://sam.gov/opp/97ec6ab3d5…</td><td>&quot;The Whooster Web Based Softwar…</td></tr><tr><td>&quot;c15a7148317b44eeac210a7b640687…</td><td>&quot;Beckman Coulter Reagents and S…</td><td>&quot;W81K0222Q0162&quot;</td><td>&quot;DEPT OF DEFENSE&quot;</td><td>21</td><td>&quot;DEPT OF THE ARMY&quot;</td><td>&quot;2100&quot;</td><td>&quot;W40M RHCO PACIFIC&quot;</td><td>&quot;W81K02&quot;</td><td>&quot;2022-09-30 23:01:45.502-04&quot;</td><td>&quot;Presolicitation&quot;</td><td>&quot;Sources Sought&quot;</td><td>&quot;auto15&quot;</td><td>&quot;&quot;</td><td>&quot;&quot;</td><td>&quot;&quot;</td><td>&quot;2022-10-11T10:00:00-10:00&quot;</td><td>&quot;325413&quot;</td><td>&quot;6550&quot;</td><td>&quot;&quot;</td><td>&quot;&quot;</td><td>&quot;&quot;</td><td>&quot;&quot;</td><td>&quot;USA&quot;</td><td>&quot;No&quot;</td><td>&quot;&quot;</td><td>&quot;&quot;</td><td>&quot;&quot;</td><td>&quot;&quot;</td><td>&quot;&quot;</td><td>&quot;Megumi Kuwada&quot;</td><td>&quot;megumi.kuwada.civ@mail.mil&quot;</td><td>&quot;8084385125&quot;</td><td>&quot;&quot;</td><td>&quot;&quot;</td><td>&quot;&quot;</td><td>&quot;&quot;</td><td>&quot;&quot;</td><td>&quot;&quot;</td><td>&quot;OFFICE&quot;</td><td>&quot;HI&quot;</td><td>&quot;FORT SHAFTER&quot;</td><td>&quot;96858-5098&quot;</td><td>&quot;USA&quot;</td><td>&quot;&quot;</td><td>&quot;https://sam.gov/opp/c15a714831…</td><td>&quot;The Medical Readiness Contract…</td></tr><tr><td>&quot;bf103afa7b4b455bb1541eb450e381…</td><td>&quot;8(a) WebEOC IL5 Cloud Services…</td><td>&quot;HQ003422C0130&quot;</td><td>&quot;DEPT OF DEFENSE&quot;</td><td>97</td><td>&quot;WASHINGTON HEADQUARTERS SERVIC…</td><td>&quot;97F5&quot;</td><td>&quot;WASHINGTON HEADQUARTERS SERVIC…</td><td>&quot;HQ0034&quot;</td><td>&quot;2022-09-30 22:12:14.082-04&quot;</td><td>&quot;Award Notice&quot;</td><td>&quot;Award Notice&quot;</td><td>&quot;auto15&quot;</td><td>&quot;2022-10-14&quot;</td><td>&quot;8AN&quot;</td><td>&quot;8(a) Sole Source (FAR 19.8)&quot;</td><td>&quot;&quot;</td><td>&quot;541519&quot;</td><td>&quot;DF01&quot;</td><td>&quot;&quot;</td><td>&quot;&quot;</td><td>&quot;&quot;</td><td>&quot;&quot;</td><td>&quot;&quot;</td><td>&quot;No&quot;</td><td>&quot;HQ003422C0130&quot;</td><td>&quot;2022-09-29&quot;</td><td>&quot;4838341.62&quot;</td><td>&quot;SPAARK INC PA 17201 USA&quot;</td><td>&quot;&quot;</td><td>&quot;Roya Sterner&quot;</td><td>&quot;roya.m.sterner.civ@mail.mil&quot;</td><td>&quot;5712254264&quot;</td><td>&quot;&quot;</td><td>&quot;&quot;</td><td>&quot;&quot;</td><td>&quot;&quot;</td><td>&quot;&quot;</td><td>&quot;&quot;</td><td>&quot;OFFICE&quot;</td><td>&quot;DC&quot;</td><td>&quot;WASHINGTON&quot;</td><td>&quot;203011000&quot;</td><td>&quot;USA&quot;</td><td>&quot;&quot;</td><td>&quot;https://sam.gov/opp/bf103afa7b…</td><td>&quot;Direct Award of an 8(a) contra…</td></tr><tr><td>&quot;d1619b0084ac4d439585b727343b46…</td><td>&quot;Leslie Valve IDIQ - Sources So…</td><td>&quot;N4523A22RC04N81&quot;</td><td>&quot;DEPT OF DEFENSE&quot;</td><td>17</td><td>&quot;DEPT OF THE NAVY&quot;</td><td>&quot;1700&quot;</td><td>&quot;PUGET SOUND NAVAL SHIPYARD IMF&quot;</td><td>&quot;N4523A&quot;</td><td>&quot;2022-09-30 22:05:45.599-04&quot;</td><td>&quot;Sources Sought&quot;</td><td>&quot;Sources Sought&quot;</td><td>&quot;auto15&quot;</td><td>&quot;&quot;</td><td>&quot;&quot;</td><td>&quot;&quot;</td><td>&quot;2022-10-14T11:00:00-07:00&quot;</td><td>&quot;811310&quot;</td><td>&quot;J048&quot;</td><td>&quot;&quot;</td><td>&quot;&quot;</td><td>&quot;&quot;</td><td>&quot;&quot;</td><td>&quot;USA&quot;</td><td>&quot;No&quot;</td><td>&quot;&quot;</td><td>&quot;&quot;</td><td>&quot;&quot;</td><td>&quot;&quot;</td><td>&quot;&quot;</td><td>&quot;Bart Franklin&quot;</td><td>&quot;bart.franklin@navy.mil&quot;</td><td>&quot;3609793786&quot;</td><td>&quot;&quot;</td><td>&quot;&quot;</td><td>&quot;Chris Parker&quot;</td><td>&quot;Christopher.L.Parke1@navy.mil&quot;</td><td>&quot;3609793943&quot;</td><td>&quot;&quot;</td><td>&quot;OFFICE&quot;</td><td>&quot;WA&quot;</td><td>&quot;BREMERTON&quot;</td><td>&quot;98314-5001&quot;</td><td>&quot;USA&quot;</td><td>&quot;&quot;</td><td>&quot;https://sam.gov/opp/d1619b0084…</td><td>&quot;Puget Sound Naval Shipyard and…</td></tr><tr><td>&quot;48b6b27846bd4155990cdc2f2be335…</td><td>&quot;PFPA BALLISTIC VEST AND PLATES&quot;</td><td>&quot;HQ003422Q0206&quot;</td><td>&quot;DEPT OF DEFENSE&quot;</td><td>97</td><td>&quot;WASHINGTON HEADQUARTERS SERVIC…</td><td>&quot;97F5&quot;</td><td>&quot;WASHINGTON HEADQUARTERS SERVIC…</td><td>&quot;HQ0034&quot;</td><td>&quot;2022-09-30 21:36:36.954-04&quot;</td><td>&quot;Award Notice&quot;</td><td>&quot;Award Notice&quot;</td><td>&quot;auto15&quot;</td><td>&quot;2022-10-15&quot;</td><td>&quot;SBA&quot;</td><td>&quot;Total Small Business Set-Aside…</td><td>&quot;&quot;</td><td>&quot;315990&quot;</td><td>&quot;8415&quot;</td><td>&quot;&quot;</td><td>&quot;Washington&quot;</td><td>&quot;DC&quot;</td><td>&quot;20301&quot;</td><td>&quot;USA&quot;</td><td>&quot;No&quot;</td><td>&quot;HQ003422A0026&quot;</td><td>&quot;2022-09-30&quot;</td><td>&quot;2500000.00&quot;</td><td>&quot;SOUTHERN POLICE EQUIPMENT COMP…</td><td>&quot;&quot;</td><td>&quot;Yolnie T. Merriweather&quot;</td><td>&quot;whs.pentagon.ad.mbx.essd-secur…</td><td>&quot;7035459498&quot;</td><td>&quot;&quot;</td><td>&quot;&quot;</td><td>&quot;Monica DeGroot&quot;</td><td>&quot;whs.pentagon.ad.mbx.essd-secur…</td><td>&quot;&quot;</td><td>&quot;&quot;</td><td>&quot;OFFICE&quot;</td><td>&quot;DC&quot;</td><td>&quot;WASHINGTON&quot;</td><td>&quot;203011000&quot;</td><td>&quot;USA&quot;</td><td>&quot;&quot;</td><td>&quot;https://sam.gov/opp/48b6b27846…</td><td>&quot;This blanket purchase agreemen…</td></tr><tr><td>&hellip;</td><td>&hellip;</td><td>&hellip;</td><td>&hellip;</td><td>&hellip;</td><td>&hellip;</td><td>&hellip;</td><td>&hellip;</td><td>&hellip;</td><td>&hellip;</td><td>&hellip;</td><td>&hellip;</td><td>&hellip;</td><td>&hellip;</td><td>&hellip;</td><td>&hellip;</td><td>&hellip;</td><td>&hellip;</td><td>&hellip;</td><td>&hellip;</td><td>&hellip;</td><td>&hellip;</td><td>&hellip;</td><td>&hellip;</td><td>&hellip;</td><td>&hellip;</td><td>&hellip;</td><td>&hellip;</td><td>&hellip;</td><td>&hellip;</td><td>&hellip;</td><td>&hellip;</td><td>&hellip;</td><td>&hellip;</td><td>&hellip;</td><td>&hellip;</td><td>&hellip;</td><td>&hellip;</td><td>&hellip;</td><td>&hellip;</td><td>&hellip;</td><td>&hellip;</td><td>&hellip;</td><td>&hellip;</td><td>&hellip;</td><td>&hellip;</td><td>&hellip;</td></tr><tr><td>&quot;9f5c5ffbcf544822897d81adf4d48a…</td><td>&quot;Lease Vehicles for Marine Corp…</td><td>&quot;N4008421T2004&quot;</td><td>&quot;DEPT OF DEFENSE&quot;</td><td>17</td><td>&quot;DEPT OF THE NAVY&quot;</td><td>&quot;1700&quot;</td><td>&quot;NAVAL FAC ENGINEERING CMD FAR …</td><td>&quot;N40084&quot;</td><td>&quot;2021-10-01 01:10:15.569-04&quot;</td><td>&quot;Solicitation&quot;</td><td>&quot;Solicitation&quot;</td><td>&quot;auto15&quot;</td><td>&quot;2021-10-27&quot;</td><td>&quot;&quot;</td><td>&quot;&quot;</td><td>&quot;2021-10-12T10:00:00+09:00&quot;</td><td>&quot;532112&quot;</td><td>&quot;W023&quot;</td><td>&quot;&quot;</td><td>&quot;&quot;</td><td>&quot;&quot;</td><td>&quot;&quot;</td><td>&quot;JPN&quot;</td><td>&quot;No&quot;</td><td>&quot;&quot;</td><td>&quot;&quot;</td><td>&quot;&quot;</td><td>&quot;&quot;</td><td>&quot;&quot;</td><td>&quot;Ayako Yonashiro&quot;</td><td>&quot;Ayako.Yonashiro.JA@fe.navy.mil&quot;</td><td>&quot;0989700350&quot;</td><td>&quot;&quot;</td><td>&quot;&quot;</td><td>&quot;Kimberly Groce&quot;</td><td>&quot;Kimberly.Groce@fe.navy.mil&quot;</td><td>&quot;0989704153&quot;</td><td>&quot;&quot;</td><td>&quot;OFFICE&quot;</td><td>&quot;AP&quot;</td><td>&quot;FPO&quot;</td><td>&quot;96349-0013&quot;</td><td>&quot;USA&quot;</td><td>&quot;&quot;</td><td>&quot;https://sam.gov/opp/9f5c5ffbcf…</td><td>&quot;The Contractor shall provide q…</td></tr><tr><td>&quot;2e2ab5512120475dba81379f508400…</td><td>&quot;Replace Perimeter Boundary Wal…</td><td>&quot;W90VN921R0094&quot;</td><td>&quot;DEPT OF DEFENSE&quot;</td><td>21</td><td>&quot;DEPT OF THE ARMY&quot;</td><td>&quot;2100&quot;</td><td>&quot;411TH CONTRACTING SUPORT BRIGA…</td><td>&quot;W91QVN&quot;</td><td>&quot;2021-10-01 00:20:35.287-04&quot;</td><td>&quot;Combined Synopsis/Solicitation&quot;</td><td>&quot;Combined Synopsis/Solicitation&quot;</td><td>&quot;auto15&quot;</td><td>&quot;2021-11-02&quot;</td><td>&quot;&quot;</td><td>&quot;&quot;</td><td>&quot;2021-10-18T13:00:00+09:00&quot;</td><td>&quot;238140&quot;</td><td>&quot;Z2PZ&quot;</td><td>&quot;&quot;</td><td>&quot;APO, AE&quot;</td><td>&quot;&quot;</td><td>&quot;96218&quot;</td><td>&quot;KOR&quot;</td><td>&quot;No&quot;</td><td>&quot;&quot;</td><td>&quot;&quot;</td><td>&quot;&quot;</td><td>&quot;&quot;</td><td>&quot;&quot;</td><td>&quot;Raul Medina&quot;</td><td>&quot;raul.medina45.mil@mail.mil&quot;</td><td>&quot;05033635684&quot;</td><td>&quot;&quot;</td><td>&quot;&quot;</td><td>&quot;&quot;</td><td>&quot;&quot;</td><td>&quot;&quot;</td><td>&quot;&quot;</td><td>&quot;OFFICE&quot;</td><td>&quot;AP&quot;</td><td>&quot;APO&quot;</td><td>&quot;96271-5289&quot;</td><td>&quot;USA&quot;</td><td>&quot;&quot;</td><td>&quot;https://sam.gov/opp/2e2ab55121…</td><td>&quot;REPLACE PERIMETER BOUNDARY WAL…</td></tr><tr><td>&quot;bb24f68bc7e542c7bf1301c44fd0b1…</td><td>&quot;Monaco Upgrade, McConnell AFB&quot;</td><td>&quot;FA462121P0062&quot;</td><td>&quot;DEPT OF DEFENSE&quot;</td><td>57</td><td>&quot;DEPT OF THE AIR FORCE&quot;</td><td>&quot;5700&quot;</td><td>&quot;FA4621  22 CONS PK&quot;</td><td>&quot;FA4621&quot;</td><td>&quot;2021-10-01 00:12:23.278-04&quot;</td><td>&quot;Justification&quot;</td><td>&quot;Justification&quot;</td><td>&quot;auto30&quot;</td><td>&quot;2021-10-31&quot;</td><td>&quot;&quot;</td><td>&quot;&quot;</td><td>&quot;&quot;</td><td>&quot;561621&quot;</td><td>&quot;J063&quot;</td><td>&quot;&quot;</td><td>&quot;McConnell AFB&quot;</td><td>&quot;KS&quot;</td><td>&quot;67221&quot;</td><td>&quot;USA&quot;</td><td>&quot;No&quot;</td><td>&quot;FA462121P0062&quot;</td><td>&quot;2021-09-30&quot;</td><td>&quot;&quot;</td><td>&quot;&quot;</td><td>&quot;&quot;</td><td>&quot;MSgt Brandon M. Williams&quot;</td><td>&quot;brandon.williams.6@us.af.mil&quot;</td><td>&quot;3167594520&quot;</td><td>&quot;&quot;</td><td>&quot;&quot;</td><td>&quot;&quot;</td><td>&quot;&quot;</td><td>&quot;&quot;</td><td>&quot;&quot;</td><td>&quot;OFFICE&quot;</td><td>&quot;KS&quot;</td><td>&quot;MCCONNELL AFB&quot;</td><td>&quot;67221-3702&quot;</td><td>&quot;USA&quot;</td><td>&quot;&quot;</td><td>&quot;https://sam.gov/opp/bb24f68bc7…</td><td>&quot;The 22 CES requires Technology…</td></tr><tr><td>&quot;21c6761b82df4147b72d893cd89872…</td><td>&quot;Autosampler - Award Notice&quot;</td><td>&quot;12505B21Q0247-Award&quot;</td><td>&quot;AGRICULTURE, DEPARTMENT OF&quot;</td><td>12</td><td>&quot;AGRICULTURAL RESEARCH SERVICE&quot;</td><td>&quot;12H2&quot;</td><td>&quot;USDA ARS MWA AAO ACQ/PER PROP&quot;</td><td>&quot;12505B&quot;</td><td>&quot;2021-10-01 00:03:51.008-04&quot;</td><td>&quot;Award Notice&quot;</td><td>&quot;Combined Synopsis/Solicitation&quot;</td><td>&quot;auto15&quot;</td><td>&quot;2021-10-15&quot;</td><td>&quot;&quot;</td><td>&quot;&quot;</td><td>&quot;&quot;</td><td>&quot;334516&quot;</td><td>&quot;6640&quot;</td><td>&quot;&quot;</td><td>&quot;Lexington&quot;</td><td>&quot;KY&quot;</td><td>&quot;40506&quot;</td><td>&quot;USA&quot;</td><td>&quot;No&quot;</td><td>&quot;12505B21P0269&quot;</td><td>&quot;2021-09-30&quot;</td><td>&quot;9405.30&quot;</td><td>&quot;Vizocom ICT LLC CA 92019-3225 …</td><td>&quot;&quot;</td><td>&quot;Aaron Dimeo&quot;</td><td>&quot;aaron.dimeo@usda.gov&quot;</td><td>&quot;6088900067&quot;</td><td>&quot;&quot;</td><td>&quot;&quot;</td><td>&quot;&quot;</td><td>&quot;&quot;</td><td>&quot;&quot;</td><td>&quot;&quot;</td><td>&quot;OFFICE&quot;</td><td>&quot;IL&quot;</td><td>&quot;PEORIA&quot;</td><td>&quot;61604&quot;</td><td>&quot;USA&quot;</td><td>&quot;&quot;</td><td>&quot;https://sam.gov/opp/21c6761b82…</td><td>&quot;&quot;</td></tr><tr><td>&quot;4aabc1ad68094f32b4990846e2995d…</td><td>&quot;Tissue Homogenizer and Cooling…</td><td>&quot;12505B21Q0221-Award&quot;</td><td>&quot;AGRICULTURE, DEPARTMENT OF&quot;</td><td>12</td><td>&quot;AGRICULTURAL RESEARCH SERVICE&quot;</td><td>&quot;12H2&quot;</td><td>&quot;USDA ARS MWA AAO ACQ/PER PROP&quot;</td><td>&quot;12505B&quot;</td><td>&quot;2021-10-01 00:00:54.533-04&quot;</td><td>&quot;Award Notice&quot;</td><td>&quot;Combined Synopsis/Solicitation&quot;</td><td>&quot;auto15&quot;</td><td>&quot;2021-10-15&quot;</td><td>&quot;SBA&quot;</td><td>&quot;Total Small Business Set-Aside…</td><td>&quot;&quot;</td><td>&quot;334516&quot;</td><td>&quot;6630&quot;</td><td>&quot;&quot;</td><td>&quot;Madison&quot;</td><td>&quot;WI&quot;</td><td>&quot;53706&quot;</td><td>&quot;USA&quot;</td><td>&quot;No&quot;</td><td>&quot;12505B21P0267&quot;</td><td>&quot;2021-09-30&quot;</td><td>&quot;18570.00&quot;</td><td>&quot;Firstchoice Group America LLC …</td><td>&quot;&quot;</td><td>&quot;Aaron Dimeo&quot;</td><td>&quot;aaron.dimeo@usda.gov&quot;</td><td>&quot;6088900067&quot;</td><td>&quot;&quot;</td><td>&quot;&quot;</td><td>&quot;&quot;</td><td>&quot;&quot;</td><td>&quot;&quot;</td><td>&quot;&quot;</td><td>&quot;OFFICE&quot;</td><td>&quot;IL&quot;</td><td>&quot;PEORIA&quot;</td><td>&quot;61604&quot;</td><td>&quot;USA&quot;</td><td>&quot;&quot;</td><td>&quot;https://sam.gov/opp/4aabc1ad68…</td><td>&quot;&quot;</td></tr></tbody></table></div>"
      ],
      "text/plain": [
       "shape: (323_030, 47)\n",
       "┌───────────┬───────────┬───────────┬───────────┬───┬───────────┬───────────┬───────────┬──────────┐\n",
       "│ noticeid  ┆ title     ┆ sol_      ┆ departmen ┆ … ┆ countryco ┆ additiona ┆ link      ┆ descript │\n",
       "│ ---       ┆ ---       ┆ ---       ┆ t_ind_age ┆   ┆ de        ┆ linfolink ┆ ---       ┆ ion      │\n",
       "│ str       ┆ str       ┆ str       ┆ ncy       ┆   ┆ ---       ┆ ---       ┆ str       ┆ ---      │\n",
       "│           ┆           ┆           ┆ ---       ┆   ┆ str       ┆ str       ┆           ┆ str      │\n",
       "│           ┆           ┆           ┆ str       ┆   ┆           ┆           ┆           ┆          │\n",
       "╞═══════════╪═══════════╪═══════════╪═══════════╪═══╪═══════════╪═══════════╪═══════════╪══════════╡\n",
       "│ 97ec6ab3d ┆ Whooster  ┆ HQ003422P ┆ DEPT OF   ┆ … ┆ USA       ┆           ┆ https://s ┆ The      │\n",
       "│ 5d4454192 ┆ Web-Based ┆ 0171      ┆ DEFENSE   ┆   ┆           ┆           ┆ am.gov/op ┆ Whooster │\n",
       "│ a8828827d ┆ Software  ┆           ┆           ┆   ┆           ┆           ┆ p/97ec6ab ┆ Web      │\n",
       "│ e6f…      ┆           ┆           ┆           ┆   ┆           ┆           ┆ 3d5…      ┆ Based    │\n",
       "│           ┆           ┆           ┆           ┆   ┆           ┆           ┆           ┆ Softwar… │\n",
       "│ c15a71483 ┆ Beckman   ┆ W81K0222Q ┆ DEPT OF   ┆ … ┆ USA       ┆           ┆ https://s ┆ The      │\n",
       "│ 17b44eeac ┆ Coulter   ┆ 0162      ┆ DEFENSE   ┆   ┆           ┆           ┆ am.gov/op ┆ Medical  │\n",
       "│ 210a7b640 ┆ Reagents  ┆           ┆           ┆   ┆           ┆           ┆ p/c15a714 ┆ Readines │\n",
       "│ 687…      ┆ and S…    ┆           ┆           ┆   ┆           ┆           ┆ 831…      ┆ s Contra │\n",
       "│           ┆           ┆           ┆           ┆   ┆           ┆           ┆           ┆ ct…      │\n",
       "│ bf103afa7 ┆ 8(a)      ┆ HQ003422C ┆ DEPT OF   ┆ … ┆ USA       ┆           ┆ https://s ┆ Direct   │\n",
       "│ b4b455bb1 ┆ WebEOC    ┆ 0130      ┆ DEFENSE   ┆   ┆           ┆           ┆ am.gov/op ┆ Award of │\n",
       "│ 541eb450e ┆ IL5 Cloud ┆           ┆           ┆   ┆           ┆           ┆ p/bf103af ┆ an 8(a)  │\n",
       "│ 381…      ┆ Services… ┆           ┆           ┆   ┆           ┆           ┆ a7b…      ┆ contra…  │\n",
       "│ d1619b008 ┆ Leslie    ┆ N4523A22R ┆ DEPT OF   ┆ … ┆ USA       ┆           ┆ https://s ┆ Puget    │\n",
       "│ 4ac4d4395 ┆ Valve     ┆ C04N81    ┆ DEFENSE   ┆   ┆           ┆           ┆ am.gov/op ┆ Sound    │\n",
       "│ 85b727343 ┆ IDIQ -    ┆           ┆           ┆   ┆           ┆           ┆ p/d1619b0 ┆ Naval    │\n",
       "│ b46…      ┆ Sources   ┆           ┆           ┆   ┆           ┆           ┆ 084…      ┆ Shipyard │\n",
       "│           ┆ So…       ┆           ┆           ┆   ┆           ┆           ┆           ┆ and…     │\n",
       "│ 48b6b2784 ┆ PFPA      ┆ HQ003422Q ┆ DEPT OF   ┆ … ┆ USA       ┆           ┆ https://s ┆ This     │\n",
       "│ 6bd415599 ┆ BALLISTIC ┆ 0206      ┆ DEFENSE   ┆   ┆           ┆           ┆ am.gov/op ┆ blanket  │\n",
       "│ 0cdc2f2be ┆ VEST AND  ┆           ┆           ┆   ┆           ┆           ┆ p/48b6b27 ┆ purchase │\n",
       "│ 335…      ┆ PLATES    ┆           ┆           ┆   ┆           ┆           ┆ 846…      ┆ agreemen │\n",
       "│           ┆           ┆           ┆           ┆   ┆           ┆           ┆           ┆ …        │\n",
       "│ …         ┆ …         ┆ …         ┆ …         ┆ … ┆ …         ┆ …         ┆ …         ┆ …        │\n",
       "│ 9f5c5ffbc ┆ Lease     ┆ N4008421T ┆ DEPT OF   ┆ … ┆ USA       ┆           ┆ https://s ┆ The Cont │\n",
       "│ f54482289 ┆ Vehicles  ┆ 2004      ┆ DEFENSE   ┆   ┆           ┆           ┆ am.gov/op ┆ ractor   │\n",
       "│ 7d81adf4d ┆ for       ┆           ┆           ┆   ┆           ┆           ┆ p/9f5c5ff ┆ shall    │\n",
       "│ 48a…      ┆ Marine    ┆           ┆           ┆   ┆           ┆           ┆ bcf…      ┆ provide  │\n",
       "│           ┆ Corp…     ┆           ┆           ┆   ┆           ┆           ┆           ┆ q…       │\n",
       "│ 2e2ab5512 ┆ Replace   ┆ W90VN921R ┆ DEPT OF   ┆ … ┆ USA       ┆           ┆ https://s ┆ REPLACE  │\n",
       "│ 120475dba ┆ Perimeter ┆ 0094      ┆ DEFENSE   ┆   ┆           ┆           ┆ am.gov/op ┆ PERIMETE │\n",
       "│ 81379f508 ┆ Boundary  ┆           ┆           ┆   ┆           ┆           ┆ p/2e2ab55 ┆ R        │\n",
       "│ 400…      ┆ Wal…      ┆           ┆           ┆   ┆           ┆           ┆ 121…      ┆ BOUNDARY │\n",
       "│           ┆           ┆           ┆           ┆   ┆           ┆           ┆           ┆ WAL…     │\n",
       "│ bb24f68bc ┆ Monaco    ┆ FA462121P ┆ DEPT OF   ┆ … ┆ USA       ┆           ┆ https://s ┆ The 22   │\n",
       "│ 7e542c7bf ┆ Upgrade,  ┆ 0062      ┆ DEFENSE   ┆   ┆           ┆           ┆ am.gov/op ┆ CES      │\n",
       "│ 1301c44fd ┆ McConnell ┆           ┆           ┆   ┆           ┆           ┆ p/bb24f68 ┆ requires │\n",
       "│ 0b1…      ┆ AFB       ┆           ┆           ┆   ┆           ┆           ┆ bc7…      ┆ Technolo │\n",
       "│           ┆           ┆           ┆           ┆   ┆           ┆           ┆           ┆ gy…      │\n",
       "│ 21c6761b8 ┆ Autosampl ┆ 12505B21Q ┆ AGRICULTU ┆ … ┆ USA       ┆           ┆ https://s ┆          │\n",
       "│ 2df4147b7 ┆ er -      ┆ 0247-Awar ┆ RE, DEPAR ┆   ┆           ┆           ┆ am.gov/op ┆          │\n",
       "│ 2d893cd89 ┆ Award     ┆ d         ┆ TMENT OF  ┆   ┆           ┆           ┆ p/21c6761 ┆          │\n",
       "│ 872…      ┆ Notice    ┆           ┆           ┆   ┆           ┆           ┆ b82…      ┆          │\n",
       "│ 4aabc1ad6 ┆ Tissue    ┆ 12505B21Q ┆ AGRICULTU ┆ … ┆ USA       ┆           ┆ https://s ┆          │\n",
       "│ 8094f32b4 ┆ Homogeniz ┆ 0221-Awar ┆ RE, DEPAR ┆   ┆           ┆           ┆ am.gov/op ┆          │\n",
       "│ 990846e29 ┆ er and    ┆ d         ┆ TMENT OF  ┆   ┆           ┆           ┆ p/4aabc1a ┆          │\n",
       "│ 95d…      ┆ Cooling…  ┆           ┆           ┆   ┆           ┆           ┆ d68…      ┆          │\n",
       "└───────────┴───────────┴───────────┴───────────┴───┴───────────┴───────────┴───────────┴──────────┘"
      ]
     },
     "execution_count": 95,
     "metadata": {},
     "output_type": "execute_result"
    }
   ],
   "source": [
    "# Function to clean column names\n",
    "def clean_names(df):\n",
    "    \"\"\"\n",
    "    Cleans column names of a Polars DataFrame by removing special characters,\n",
    "    converting to lowercase, and replacing spaces with underscores.\n",
    "\n",
    "    Args:\n",
    "        df: Polars DataFrame\n",
    "\n",
    "    Returns:\n",
    "        Polars DataFrame with cleaned column names.\n",
    "    \"\"\"\n",
    "    df.columns = [re.sub(r'\\W+', '_', col).lower() for col in df.columns]\n",
    "    return df\n",
    "\n",
    "# Load your DataFrame\n",
    "# df2023 = pl.read_csv('your_dataset.csv')  # Replace with your actual data loading method\n",
    "\n",
    "# Clean column names\n",
    "df2023 = clean_names(df)\n",
    "df2023"
   ]
  },
  {
   "cell_type": "code",
   "execution_count": 96,
   "metadata": {},
   "outputs": [
    {
     "data": {
      "text/html": [
       "<div><style>\n",
       ".dataframe > thead > tr,\n",
       ".dataframe > tbody > tr {\n",
       "  text-align: right;\n",
       "  white-space: pre-wrap;\n",
       "}\n",
       "</style>\n",
       "<small>shape: (323_030, 47)</small><table border=\"1\" class=\"dataframe\"><thead><tr><th>noticeid</th><th>title</th><th>sol_</th><th>department_ind_agency</th><th>cgac</th><th>sub_tier</th><th>fpds_code</th><th>office</th><th>aac_code</th><th>posteddate</th><th>type</th><th>basetype</th><th>archivetype</th><th>archivedate</th><th>setasidecode</th><th>setaside</th><th>responsedeadline</th><th>naicscode</th><th>classificationcode</th><th>popstreetaddress</th><th>popcity</th><th>popstate</th><th>popzip</th><th>popcountry</th><th>active</th><th>awardnumber</th><th>awarddate</th><th>award_</th><th>awardee</th><th>primarycontacttitle</th><th>primarycontactfullname</th><th>primarycontactemail</th><th>primarycontactphone</th><th>primarycontactfax</th><th>secondarycontacttitle</th><th>secondarycontactfullname</th><th>secondarycontactemail</th><th>secondarycontactphone</th><th>secondarycontactfax</th><th>organizationtype</th><th>state</th><th>city</th><th>zipcode</th><th>countrycode</th><th>additionalinfolink</th><th>link</th><th>description</th></tr><tr><td>str</td><td>str</td><td>str</td><td>str</td><td>i64</td><td>str</td><td>str</td><td>str</td><td>str</td><td>str</td><td>str</td><td>str</td><td>str</td><td>str</td><td>str</td><td>str</td><td>str</td><td>str</td><td>str</td><td>str</td><td>str</td><td>str</td><td>str</td><td>str</td><td>str</td><td>str</td><td>str</td><td>str</td><td>str</td><td>str</td><td>str</td><td>str</td><td>str</td><td>str</td><td>str</td><td>str</td><td>str</td><td>str</td><td>str</td><td>str</td><td>str</td><td>str</td><td>str</td><td>str</td><td>str</td><td>str</td><td>str</td></tr></thead><tbody><tr><td>&quot;97ec6ab3d5d4454192a8828827de6f…</td><td>&quot;Whooster Web-Based Software&quot;</td><td>&quot;HQ003422P0171&quot;</td><td>&quot;DEPT OF DEFENSE&quot;</td><td>97</td><td>&quot;WASHINGTON HEADQUARTERS SERVIC…</td><td>&quot;97F5&quot;</td><td>&quot;WASHINGTON HEADQUARTERS SERVIC…</td><td>&quot;HQ0034&quot;</td><td>&quot;2022-09-30 23:09:21.289-04&quot;</td><td>&quot;Award Notice&quot;</td><td>&quot;Special Notice&quot;</td><td>&quot;auto15&quot;</td><td>&quot;2022-10-14&quot;</td><td>&quot;&quot;</td><td>&quot;&quot;</td><td>&quot;&quot;</td><td>&quot;511210&quot;</td><td>&quot;7A21&quot;</td><td>&quot;&quot;</td><td>&quot;&quot;</td><td>&quot;&quot;</td><td>&quot;&quot;</td><td>&quot;&quot;</td><td>&quot;No&quot;</td><td>&quot;HQ003422P0171&quot;</td><td>&quot;2022-09-29&quot;</td><td>&quot;125000.00&quot;</td><td>&quot;WHOOSTER INC TX 78610-2850 USA&quot;</td><td>&quot;&quot;</td><td>&quot;Roya Sterner&quot;</td><td>&quot;roya.m.sterner.civ@mail.mil&quot;</td><td>&quot;5712254264&quot;</td><td>&quot;&quot;</td><td>&quot;&quot;</td><td>&quot;&quot;</td><td>&quot;&quot;</td><td>&quot;&quot;</td><td>&quot;&quot;</td><td>&quot;OFFICE&quot;</td><td>&quot;DC&quot;</td><td>&quot;WASHINGTON&quot;</td><td>&quot;203011000&quot;</td><td>&quot;USA&quot;</td><td>&quot;&quot;</td><td>&quot;https://sam.gov/opp/97ec6ab3d5…</td><td>&quot;The Whooster Web Based Softwar…</td></tr><tr><td>&quot;c15a7148317b44eeac210a7b640687…</td><td>&quot;Beckman Coulter Reagents and S…</td><td>&quot;W81K0222Q0162&quot;</td><td>&quot;DEPT OF DEFENSE&quot;</td><td>21</td><td>&quot;DEPT OF THE ARMY&quot;</td><td>&quot;2100&quot;</td><td>&quot;W40M RHCO PACIFIC&quot;</td><td>&quot;W81K02&quot;</td><td>&quot;2022-09-30 23:01:45.502-04&quot;</td><td>&quot;Presolicitation&quot;</td><td>&quot;Sources Sought&quot;</td><td>&quot;auto15&quot;</td><td>&quot;&quot;</td><td>&quot;&quot;</td><td>&quot;&quot;</td><td>&quot;2022-10-11T10:00:00-10:00&quot;</td><td>&quot;325413&quot;</td><td>&quot;6550&quot;</td><td>&quot;&quot;</td><td>&quot;&quot;</td><td>&quot;&quot;</td><td>&quot;&quot;</td><td>&quot;USA&quot;</td><td>&quot;No&quot;</td><td>&quot;&quot;</td><td>&quot;&quot;</td><td>&quot;&quot;</td><td>&quot;&quot;</td><td>&quot;&quot;</td><td>&quot;Megumi Kuwada&quot;</td><td>&quot;megumi.kuwada.civ@mail.mil&quot;</td><td>&quot;8084385125&quot;</td><td>&quot;&quot;</td><td>&quot;&quot;</td><td>&quot;&quot;</td><td>&quot;&quot;</td><td>&quot;&quot;</td><td>&quot;&quot;</td><td>&quot;OFFICE&quot;</td><td>&quot;HI&quot;</td><td>&quot;FORT SHAFTER&quot;</td><td>&quot;96858-5098&quot;</td><td>&quot;USA&quot;</td><td>&quot;&quot;</td><td>&quot;https://sam.gov/opp/c15a714831…</td><td>&quot;The Medical Readiness Contract…</td></tr><tr><td>&quot;bf103afa7b4b455bb1541eb450e381…</td><td>&quot;8(a) WebEOC IL5 Cloud Services…</td><td>&quot;HQ003422C0130&quot;</td><td>&quot;DEPT OF DEFENSE&quot;</td><td>97</td><td>&quot;WASHINGTON HEADQUARTERS SERVIC…</td><td>&quot;97F5&quot;</td><td>&quot;WASHINGTON HEADQUARTERS SERVIC…</td><td>&quot;HQ0034&quot;</td><td>&quot;2022-09-30 22:12:14.082-04&quot;</td><td>&quot;Award Notice&quot;</td><td>&quot;Award Notice&quot;</td><td>&quot;auto15&quot;</td><td>&quot;2022-10-14&quot;</td><td>&quot;8AN&quot;</td><td>&quot;8(a) Sole Source (FAR 19.8)&quot;</td><td>&quot;&quot;</td><td>&quot;541519&quot;</td><td>&quot;DF01&quot;</td><td>&quot;&quot;</td><td>&quot;&quot;</td><td>&quot;&quot;</td><td>&quot;&quot;</td><td>&quot;&quot;</td><td>&quot;No&quot;</td><td>&quot;HQ003422C0130&quot;</td><td>&quot;2022-09-29&quot;</td><td>&quot;4838341.62&quot;</td><td>&quot;SPAARK INC PA 17201 USA&quot;</td><td>&quot;&quot;</td><td>&quot;Roya Sterner&quot;</td><td>&quot;roya.m.sterner.civ@mail.mil&quot;</td><td>&quot;5712254264&quot;</td><td>&quot;&quot;</td><td>&quot;&quot;</td><td>&quot;&quot;</td><td>&quot;&quot;</td><td>&quot;&quot;</td><td>&quot;&quot;</td><td>&quot;OFFICE&quot;</td><td>&quot;DC&quot;</td><td>&quot;WASHINGTON&quot;</td><td>&quot;203011000&quot;</td><td>&quot;USA&quot;</td><td>&quot;&quot;</td><td>&quot;https://sam.gov/opp/bf103afa7b…</td><td>&quot;Direct Award of an 8(a) contra…</td></tr><tr><td>&quot;d1619b0084ac4d439585b727343b46…</td><td>&quot;Leslie Valve IDIQ - Sources So…</td><td>&quot;N4523A22RC04N81&quot;</td><td>&quot;DEPT OF DEFENSE&quot;</td><td>17</td><td>&quot;DEPT OF THE NAVY&quot;</td><td>&quot;1700&quot;</td><td>&quot;PUGET SOUND NAVAL SHIPYARD IMF&quot;</td><td>&quot;N4523A&quot;</td><td>&quot;2022-09-30 22:05:45.599-04&quot;</td><td>&quot;Sources Sought&quot;</td><td>&quot;Sources Sought&quot;</td><td>&quot;auto15&quot;</td><td>&quot;&quot;</td><td>&quot;&quot;</td><td>&quot;&quot;</td><td>&quot;2022-10-14T11:00:00-07:00&quot;</td><td>&quot;811310&quot;</td><td>&quot;J048&quot;</td><td>&quot;&quot;</td><td>&quot;&quot;</td><td>&quot;&quot;</td><td>&quot;&quot;</td><td>&quot;USA&quot;</td><td>&quot;No&quot;</td><td>&quot;&quot;</td><td>&quot;&quot;</td><td>&quot;&quot;</td><td>&quot;&quot;</td><td>&quot;&quot;</td><td>&quot;Bart Franklin&quot;</td><td>&quot;bart.franklin@navy.mil&quot;</td><td>&quot;3609793786&quot;</td><td>&quot;&quot;</td><td>&quot;&quot;</td><td>&quot;Chris Parker&quot;</td><td>&quot;Christopher.L.Parke1@navy.mil&quot;</td><td>&quot;3609793943&quot;</td><td>&quot;&quot;</td><td>&quot;OFFICE&quot;</td><td>&quot;WA&quot;</td><td>&quot;BREMERTON&quot;</td><td>&quot;98314-5001&quot;</td><td>&quot;USA&quot;</td><td>&quot;&quot;</td><td>&quot;https://sam.gov/opp/d1619b0084…</td><td>&quot;Puget Sound Naval Shipyard and…</td></tr><tr><td>&quot;48b6b27846bd4155990cdc2f2be335…</td><td>&quot;PFPA BALLISTIC VEST AND PLATES&quot;</td><td>&quot;HQ003422Q0206&quot;</td><td>&quot;DEPT OF DEFENSE&quot;</td><td>97</td><td>&quot;WASHINGTON HEADQUARTERS SERVIC…</td><td>&quot;97F5&quot;</td><td>&quot;WASHINGTON HEADQUARTERS SERVIC…</td><td>&quot;HQ0034&quot;</td><td>&quot;2022-09-30 21:36:36.954-04&quot;</td><td>&quot;Award Notice&quot;</td><td>&quot;Award Notice&quot;</td><td>&quot;auto15&quot;</td><td>&quot;2022-10-15&quot;</td><td>&quot;SBA&quot;</td><td>&quot;Total Small Business Set-Aside…</td><td>&quot;&quot;</td><td>&quot;315990&quot;</td><td>&quot;8415&quot;</td><td>&quot;&quot;</td><td>&quot;Washington&quot;</td><td>&quot;DC&quot;</td><td>&quot;20301&quot;</td><td>&quot;USA&quot;</td><td>&quot;No&quot;</td><td>&quot;HQ003422A0026&quot;</td><td>&quot;2022-09-30&quot;</td><td>&quot;2500000.00&quot;</td><td>&quot;SOUTHERN POLICE EQUIPMENT COMP…</td><td>&quot;&quot;</td><td>&quot;Yolnie T. Merriweather&quot;</td><td>&quot;whs.pentagon.ad.mbx.essd-secur…</td><td>&quot;7035459498&quot;</td><td>&quot;&quot;</td><td>&quot;&quot;</td><td>&quot;Monica DeGroot&quot;</td><td>&quot;whs.pentagon.ad.mbx.essd-secur…</td><td>&quot;&quot;</td><td>&quot;&quot;</td><td>&quot;OFFICE&quot;</td><td>&quot;DC&quot;</td><td>&quot;WASHINGTON&quot;</td><td>&quot;203011000&quot;</td><td>&quot;USA&quot;</td><td>&quot;&quot;</td><td>&quot;https://sam.gov/opp/48b6b27846…</td><td>&quot;This blanket purchase agreemen…</td></tr><tr><td>&hellip;</td><td>&hellip;</td><td>&hellip;</td><td>&hellip;</td><td>&hellip;</td><td>&hellip;</td><td>&hellip;</td><td>&hellip;</td><td>&hellip;</td><td>&hellip;</td><td>&hellip;</td><td>&hellip;</td><td>&hellip;</td><td>&hellip;</td><td>&hellip;</td><td>&hellip;</td><td>&hellip;</td><td>&hellip;</td><td>&hellip;</td><td>&hellip;</td><td>&hellip;</td><td>&hellip;</td><td>&hellip;</td><td>&hellip;</td><td>&hellip;</td><td>&hellip;</td><td>&hellip;</td><td>&hellip;</td><td>&hellip;</td><td>&hellip;</td><td>&hellip;</td><td>&hellip;</td><td>&hellip;</td><td>&hellip;</td><td>&hellip;</td><td>&hellip;</td><td>&hellip;</td><td>&hellip;</td><td>&hellip;</td><td>&hellip;</td><td>&hellip;</td><td>&hellip;</td><td>&hellip;</td><td>&hellip;</td><td>&hellip;</td><td>&hellip;</td><td>&hellip;</td></tr><tr><td>&quot;9f5c5ffbcf544822897d81adf4d48a…</td><td>&quot;Lease Vehicles for Marine Corp…</td><td>&quot;N4008421T2004&quot;</td><td>&quot;DEPT OF DEFENSE&quot;</td><td>17</td><td>&quot;DEPT OF THE NAVY&quot;</td><td>&quot;1700&quot;</td><td>&quot;NAVAL FAC ENGINEERING CMD FAR …</td><td>&quot;N40084&quot;</td><td>&quot;2021-10-01 01:10:15.569-04&quot;</td><td>&quot;Solicitation&quot;</td><td>&quot;Solicitation&quot;</td><td>&quot;auto15&quot;</td><td>&quot;2021-10-27&quot;</td><td>&quot;&quot;</td><td>&quot;&quot;</td><td>&quot;2021-10-12T10:00:00+09:00&quot;</td><td>&quot;532112&quot;</td><td>&quot;W023&quot;</td><td>&quot;&quot;</td><td>&quot;&quot;</td><td>&quot;&quot;</td><td>&quot;&quot;</td><td>&quot;JPN&quot;</td><td>&quot;No&quot;</td><td>&quot;&quot;</td><td>&quot;&quot;</td><td>&quot;&quot;</td><td>&quot;&quot;</td><td>&quot;&quot;</td><td>&quot;Ayako Yonashiro&quot;</td><td>&quot;Ayako.Yonashiro.JA@fe.navy.mil&quot;</td><td>&quot;0989700350&quot;</td><td>&quot;&quot;</td><td>&quot;&quot;</td><td>&quot;Kimberly Groce&quot;</td><td>&quot;Kimberly.Groce@fe.navy.mil&quot;</td><td>&quot;0989704153&quot;</td><td>&quot;&quot;</td><td>&quot;OFFICE&quot;</td><td>&quot;AP&quot;</td><td>&quot;FPO&quot;</td><td>&quot;96349-0013&quot;</td><td>&quot;USA&quot;</td><td>&quot;&quot;</td><td>&quot;https://sam.gov/opp/9f5c5ffbcf…</td><td>&quot;The Contractor shall provide q…</td></tr><tr><td>&quot;2e2ab5512120475dba81379f508400…</td><td>&quot;Replace Perimeter Boundary Wal…</td><td>&quot;W90VN921R0094&quot;</td><td>&quot;DEPT OF DEFENSE&quot;</td><td>21</td><td>&quot;DEPT OF THE ARMY&quot;</td><td>&quot;2100&quot;</td><td>&quot;411TH CONTRACTING SUPORT BRIGA…</td><td>&quot;W91QVN&quot;</td><td>&quot;2021-10-01 00:20:35.287-04&quot;</td><td>&quot;Combined Synopsis/Solicitation&quot;</td><td>&quot;Combined Synopsis/Solicitation&quot;</td><td>&quot;auto15&quot;</td><td>&quot;2021-11-02&quot;</td><td>&quot;&quot;</td><td>&quot;&quot;</td><td>&quot;2021-10-18T13:00:00+09:00&quot;</td><td>&quot;238140&quot;</td><td>&quot;Z2PZ&quot;</td><td>&quot;&quot;</td><td>&quot;APO, AE&quot;</td><td>&quot;&quot;</td><td>&quot;96218&quot;</td><td>&quot;KOR&quot;</td><td>&quot;No&quot;</td><td>&quot;&quot;</td><td>&quot;&quot;</td><td>&quot;&quot;</td><td>&quot;&quot;</td><td>&quot;&quot;</td><td>&quot;Raul Medina&quot;</td><td>&quot;raul.medina45.mil@mail.mil&quot;</td><td>&quot;05033635684&quot;</td><td>&quot;&quot;</td><td>&quot;&quot;</td><td>&quot;&quot;</td><td>&quot;&quot;</td><td>&quot;&quot;</td><td>&quot;&quot;</td><td>&quot;OFFICE&quot;</td><td>&quot;AP&quot;</td><td>&quot;APO&quot;</td><td>&quot;96271-5289&quot;</td><td>&quot;USA&quot;</td><td>&quot;&quot;</td><td>&quot;https://sam.gov/opp/2e2ab55121…</td><td>&quot;REPLACE PERIMETER BOUNDARY WAL…</td></tr><tr><td>&quot;bb24f68bc7e542c7bf1301c44fd0b1…</td><td>&quot;Monaco Upgrade, McConnell AFB&quot;</td><td>&quot;FA462121P0062&quot;</td><td>&quot;DEPT OF DEFENSE&quot;</td><td>57</td><td>&quot;DEPT OF THE AIR FORCE&quot;</td><td>&quot;5700&quot;</td><td>&quot;FA4621  22 CONS PK&quot;</td><td>&quot;FA4621&quot;</td><td>&quot;2021-10-01 00:12:23.278-04&quot;</td><td>&quot;Justification&quot;</td><td>&quot;Justification&quot;</td><td>&quot;auto30&quot;</td><td>&quot;2021-10-31&quot;</td><td>&quot;&quot;</td><td>&quot;&quot;</td><td>&quot;&quot;</td><td>&quot;561621&quot;</td><td>&quot;J063&quot;</td><td>&quot;&quot;</td><td>&quot;McConnell AFB&quot;</td><td>&quot;KS&quot;</td><td>&quot;67221&quot;</td><td>&quot;USA&quot;</td><td>&quot;No&quot;</td><td>&quot;FA462121P0062&quot;</td><td>&quot;2021-09-30&quot;</td><td>&quot;&quot;</td><td>&quot;&quot;</td><td>&quot;&quot;</td><td>&quot;MSgt Brandon M. Williams&quot;</td><td>&quot;brandon.williams.6@us.af.mil&quot;</td><td>&quot;3167594520&quot;</td><td>&quot;&quot;</td><td>&quot;&quot;</td><td>&quot;&quot;</td><td>&quot;&quot;</td><td>&quot;&quot;</td><td>&quot;&quot;</td><td>&quot;OFFICE&quot;</td><td>&quot;KS&quot;</td><td>&quot;MCCONNELL AFB&quot;</td><td>&quot;67221-3702&quot;</td><td>&quot;USA&quot;</td><td>&quot;&quot;</td><td>&quot;https://sam.gov/opp/bb24f68bc7…</td><td>&quot;The 22 CES requires Technology…</td></tr><tr><td>&quot;21c6761b82df4147b72d893cd89872…</td><td>&quot;Autosampler - Award Notice&quot;</td><td>&quot;12505B21Q0247-Award&quot;</td><td>&quot;AGRICULTURE, DEPARTMENT OF&quot;</td><td>12</td><td>&quot;AGRICULTURAL RESEARCH SERVICE&quot;</td><td>&quot;12H2&quot;</td><td>&quot;USDA ARS MWA AAO ACQ/PER PROP&quot;</td><td>&quot;12505B&quot;</td><td>&quot;2021-10-01 00:03:51.008-04&quot;</td><td>&quot;Award Notice&quot;</td><td>&quot;Combined Synopsis/Solicitation&quot;</td><td>&quot;auto15&quot;</td><td>&quot;2021-10-15&quot;</td><td>&quot;&quot;</td><td>&quot;&quot;</td><td>&quot;&quot;</td><td>&quot;334516&quot;</td><td>&quot;6640&quot;</td><td>&quot;&quot;</td><td>&quot;Lexington&quot;</td><td>&quot;KY&quot;</td><td>&quot;40506&quot;</td><td>&quot;USA&quot;</td><td>&quot;No&quot;</td><td>&quot;12505B21P0269&quot;</td><td>&quot;2021-09-30&quot;</td><td>&quot;9405.30&quot;</td><td>&quot;Vizocom ICT LLC CA 92019-3225 …</td><td>&quot;&quot;</td><td>&quot;Aaron Dimeo&quot;</td><td>&quot;aaron.dimeo@usda.gov&quot;</td><td>&quot;6088900067&quot;</td><td>&quot;&quot;</td><td>&quot;&quot;</td><td>&quot;&quot;</td><td>&quot;&quot;</td><td>&quot;&quot;</td><td>&quot;&quot;</td><td>&quot;OFFICE&quot;</td><td>&quot;IL&quot;</td><td>&quot;PEORIA&quot;</td><td>&quot;61604&quot;</td><td>&quot;USA&quot;</td><td>&quot;&quot;</td><td>&quot;https://sam.gov/opp/21c6761b82…</td><td>&quot;&quot;</td></tr><tr><td>&quot;4aabc1ad68094f32b4990846e2995d…</td><td>&quot;Tissue Homogenizer and Cooling…</td><td>&quot;12505B21Q0221-Award&quot;</td><td>&quot;AGRICULTURE, DEPARTMENT OF&quot;</td><td>12</td><td>&quot;AGRICULTURAL RESEARCH SERVICE&quot;</td><td>&quot;12H2&quot;</td><td>&quot;USDA ARS MWA AAO ACQ/PER PROP&quot;</td><td>&quot;12505B&quot;</td><td>&quot;2021-10-01 00:00:54.533-04&quot;</td><td>&quot;Award Notice&quot;</td><td>&quot;Combined Synopsis/Solicitation&quot;</td><td>&quot;auto15&quot;</td><td>&quot;2021-10-15&quot;</td><td>&quot;SBA&quot;</td><td>&quot;Total Small Business Set-Aside…</td><td>&quot;&quot;</td><td>&quot;334516&quot;</td><td>&quot;6630&quot;</td><td>&quot;&quot;</td><td>&quot;Madison&quot;</td><td>&quot;WI&quot;</td><td>&quot;53706&quot;</td><td>&quot;USA&quot;</td><td>&quot;No&quot;</td><td>&quot;12505B21P0267&quot;</td><td>&quot;2021-09-30&quot;</td><td>&quot;18570.00&quot;</td><td>&quot;Firstchoice Group America LLC …</td><td>&quot;&quot;</td><td>&quot;Aaron Dimeo&quot;</td><td>&quot;aaron.dimeo@usda.gov&quot;</td><td>&quot;6088900067&quot;</td><td>&quot;&quot;</td><td>&quot;&quot;</td><td>&quot;&quot;</td><td>&quot;&quot;</td><td>&quot;&quot;</td><td>&quot;&quot;</td><td>&quot;OFFICE&quot;</td><td>&quot;IL&quot;</td><td>&quot;PEORIA&quot;</td><td>&quot;61604&quot;</td><td>&quot;USA&quot;</td><td>&quot;&quot;</td><td>&quot;https://sam.gov/opp/4aabc1ad68…</td><td>&quot;&quot;</td></tr></tbody></table></div>"
      ],
      "text/plain": [
       "shape: (323_030, 47)\n",
       "┌───────────┬───────────┬───────────┬───────────┬───┬───────────┬───────────┬───────────┬──────────┐\n",
       "│ noticeid  ┆ title     ┆ sol_      ┆ departmen ┆ … ┆ countryco ┆ additiona ┆ link      ┆ descript │\n",
       "│ ---       ┆ ---       ┆ ---       ┆ t_ind_age ┆   ┆ de        ┆ linfolink ┆ ---       ┆ ion      │\n",
       "│ str       ┆ str       ┆ str       ┆ ncy       ┆   ┆ ---       ┆ ---       ┆ str       ┆ ---      │\n",
       "│           ┆           ┆           ┆ ---       ┆   ┆ str       ┆ str       ┆           ┆ str      │\n",
       "│           ┆           ┆           ┆ str       ┆   ┆           ┆           ┆           ┆          │\n",
       "╞═══════════╪═══════════╪═══════════╪═══════════╪═══╪═══════════╪═══════════╪═══════════╪══════════╡\n",
       "│ 97ec6ab3d ┆ Whooster  ┆ HQ003422P ┆ DEPT OF   ┆ … ┆ USA       ┆           ┆ https://s ┆ The      │\n",
       "│ 5d4454192 ┆ Web-Based ┆ 0171      ┆ DEFENSE   ┆   ┆           ┆           ┆ am.gov/op ┆ Whooster │\n",
       "│ a8828827d ┆ Software  ┆           ┆           ┆   ┆           ┆           ┆ p/97ec6ab ┆ Web      │\n",
       "│ e6f…      ┆           ┆           ┆           ┆   ┆           ┆           ┆ 3d5…      ┆ Based    │\n",
       "│           ┆           ┆           ┆           ┆   ┆           ┆           ┆           ┆ Softwar… │\n",
       "│ c15a71483 ┆ Beckman   ┆ W81K0222Q ┆ DEPT OF   ┆ … ┆ USA       ┆           ┆ https://s ┆ The      │\n",
       "│ 17b44eeac ┆ Coulter   ┆ 0162      ┆ DEFENSE   ┆   ┆           ┆           ┆ am.gov/op ┆ Medical  │\n",
       "│ 210a7b640 ┆ Reagents  ┆           ┆           ┆   ┆           ┆           ┆ p/c15a714 ┆ Readines │\n",
       "│ 687…      ┆ and S…    ┆           ┆           ┆   ┆           ┆           ┆ 831…      ┆ s Contra │\n",
       "│           ┆           ┆           ┆           ┆   ┆           ┆           ┆           ┆ ct…      │\n",
       "│ bf103afa7 ┆ 8(a)      ┆ HQ003422C ┆ DEPT OF   ┆ … ┆ USA       ┆           ┆ https://s ┆ Direct   │\n",
       "│ b4b455bb1 ┆ WebEOC    ┆ 0130      ┆ DEFENSE   ┆   ┆           ┆           ┆ am.gov/op ┆ Award of │\n",
       "│ 541eb450e ┆ IL5 Cloud ┆           ┆           ┆   ┆           ┆           ┆ p/bf103af ┆ an 8(a)  │\n",
       "│ 381…      ┆ Services… ┆           ┆           ┆   ┆           ┆           ┆ a7b…      ┆ contra…  │\n",
       "│ d1619b008 ┆ Leslie    ┆ N4523A22R ┆ DEPT OF   ┆ … ┆ USA       ┆           ┆ https://s ┆ Puget    │\n",
       "│ 4ac4d4395 ┆ Valve     ┆ C04N81    ┆ DEFENSE   ┆   ┆           ┆           ┆ am.gov/op ┆ Sound    │\n",
       "│ 85b727343 ┆ IDIQ -    ┆           ┆           ┆   ┆           ┆           ┆ p/d1619b0 ┆ Naval    │\n",
       "│ b46…      ┆ Sources   ┆           ┆           ┆   ┆           ┆           ┆ 084…      ┆ Shipyard │\n",
       "│           ┆ So…       ┆           ┆           ┆   ┆           ┆           ┆           ┆ and…     │\n",
       "│ 48b6b2784 ┆ PFPA      ┆ HQ003422Q ┆ DEPT OF   ┆ … ┆ USA       ┆           ┆ https://s ┆ This     │\n",
       "│ 6bd415599 ┆ BALLISTIC ┆ 0206      ┆ DEFENSE   ┆   ┆           ┆           ┆ am.gov/op ┆ blanket  │\n",
       "│ 0cdc2f2be ┆ VEST AND  ┆           ┆           ┆   ┆           ┆           ┆ p/48b6b27 ┆ purchase │\n",
       "│ 335…      ┆ PLATES    ┆           ┆           ┆   ┆           ┆           ┆ 846…      ┆ agreemen │\n",
       "│           ┆           ┆           ┆           ┆   ┆           ┆           ┆           ┆ …        │\n",
       "│ …         ┆ …         ┆ …         ┆ …         ┆ … ┆ …         ┆ …         ┆ …         ┆ …        │\n",
       "│ 9f5c5ffbc ┆ Lease     ┆ N4008421T ┆ DEPT OF   ┆ … ┆ USA       ┆           ┆ https://s ┆ The Cont │\n",
       "│ f54482289 ┆ Vehicles  ┆ 2004      ┆ DEFENSE   ┆   ┆           ┆           ┆ am.gov/op ┆ ractor   │\n",
       "│ 7d81adf4d ┆ for       ┆           ┆           ┆   ┆           ┆           ┆ p/9f5c5ff ┆ shall    │\n",
       "│ 48a…      ┆ Marine    ┆           ┆           ┆   ┆           ┆           ┆ bcf…      ┆ provide  │\n",
       "│           ┆ Corp…     ┆           ┆           ┆   ┆           ┆           ┆           ┆ q…       │\n",
       "│ 2e2ab5512 ┆ Replace   ┆ W90VN921R ┆ DEPT OF   ┆ … ┆ USA       ┆           ┆ https://s ┆ REPLACE  │\n",
       "│ 120475dba ┆ Perimeter ┆ 0094      ┆ DEFENSE   ┆   ┆           ┆           ┆ am.gov/op ┆ PERIMETE │\n",
       "│ 81379f508 ┆ Boundary  ┆           ┆           ┆   ┆           ┆           ┆ p/2e2ab55 ┆ R        │\n",
       "│ 400…      ┆ Wal…      ┆           ┆           ┆   ┆           ┆           ┆ 121…      ┆ BOUNDARY │\n",
       "│           ┆           ┆           ┆           ┆   ┆           ┆           ┆           ┆ WAL…     │\n",
       "│ bb24f68bc ┆ Monaco    ┆ FA462121P ┆ DEPT OF   ┆ … ┆ USA       ┆           ┆ https://s ┆ The 22   │\n",
       "│ 7e542c7bf ┆ Upgrade,  ┆ 0062      ┆ DEFENSE   ┆   ┆           ┆           ┆ am.gov/op ┆ CES      │\n",
       "│ 1301c44fd ┆ McConnell ┆           ┆           ┆   ┆           ┆           ┆ p/bb24f68 ┆ requires │\n",
       "│ 0b1…      ┆ AFB       ┆           ┆           ┆   ┆           ┆           ┆ bc7…      ┆ Technolo │\n",
       "│           ┆           ┆           ┆           ┆   ┆           ┆           ┆           ┆ gy…      │\n",
       "│ 21c6761b8 ┆ Autosampl ┆ 12505B21Q ┆ AGRICULTU ┆ … ┆ USA       ┆           ┆ https://s ┆          │\n",
       "│ 2df4147b7 ┆ er -      ┆ 0247-Awar ┆ RE, DEPAR ┆   ┆           ┆           ┆ am.gov/op ┆          │\n",
       "│ 2d893cd89 ┆ Award     ┆ d         ┆ TMENT OF  ┆   ┆           ┆           ┆ p/21c6761 ┆          │\n",
       "│ 872…      ┆ Notice    ┆           ┆           ┆   ┆           ┆           ┆ b82…      ┆          │\n",
       "│ 4aabc1ad6 ┆ Tissue    ┆ 12505B21Q ┆ AGRICULTU ┆ … ┆ USA       ┆           ┆ https://s ┆          │\n",
       "│ 8094f32b4 ┆ Homogeniz ┆ 0221-Awar ┆ RE, DEPAR ┆   ┆           ┆           ┆ am.gov/op ┆          │\n",
       "│ 990846e29 ┆ er and    ┆ d         ┆ TMENT OF  ┆   ┆           ┆           ┆ p/4aabc1a ┆          │\n",
       "│ 95d…      ┆ Cooling…  ┆           ┆           ┆   ┆           ┆           ┆ d68…      ┆          │\n",
       "└───────────┴───────────┴───────────┴───────────┴───┴───────────┴───────────┴───────────┴──────────┘"
      ]
     },
     "execution_count": 96,
     "metadata": {},
     "output_type": "execute_result"
    }
   ],
   "source": [
    "# List of categorical columns\n",
    "categorical_cols = ['title', 'sol_', 'department_ind_agency', 'sub_tier', 'fpds_code', 'office', 'aac_code', \n",
    "                    'posteddate', 'type', 'basetype', 'archivetype', 'archivedate', 'setasidecode', 'setaside', \n",
    "                    'responsedeadline', 'naicscode', 'classificationcode', 'popstreetaddress', 'popcity', \n",
    "                    'popstate', 'popzip', 'popcountry', 'active', 'awardnumber', 'awarddate', 'awardee', \n",
    "                    'primarycontacttitle', 'primarycontactfullname', 'primarycontactemail', 'primarycontactphone', \n",
    "                    'primarycontactfax', 'secondarycontacttitle', 'secondarycontactfullname', 'secondarycontactemail', \n",
    "                    'secondarycontactphone', 'secondarycontactfax', 'organizationtype', 'state', 'city', 'zipcode', \n",
    "                    'countrycode', 'additionalinfolink', 'link', 'description']\n",
    "\n",
    "# Convert all categorical columns to strings\n",
    "df2023 = df2023.with_columns([pl.col(col).cast(pl.Utf8) for col in categorical_cols])\n",
    "df2023"
   ]
  },
  {
   "cell_type": "code",
   "execution_count": null,
   "metadata": {},
   "outputs": [
    {
     "name": "stdout",
     "output_type": "stream",
     "text": [
      "shape: (323_030, 47)\n",
      "┌───────────┬───────────┬───────────┬───────────┬───┬───────────┬───────────┬───────────┬──────────┐\n",
      "│ noticeid  ┆ title     ┆ sol_      ┆ departmen ┆ … ┆ countryco ┆ additiona ┆ link      ┆ descript │\n",
      "│ ---       ┆ ---       ┆ ---       ┆ t_ind_age ┆   ┆ de        ┆ linfolink ┆ ---       ┆ ion      │\n",
      "│ str       ┆ str       ┆ str       ┆ ncy       ┆   ┆ ---       ┆ ---       ┆ str       ┆ ---      │\n",
      "│           ┆           ┆           ┆ ---       ┆   ┆ str       ┆ str       ┆           ┆ str      │\n",
      "│           ┆           ┆           ┆ str       ┆   ┆           ┆           ┆           ┆          │\n",
      "╞═══════════╪═══════════╪═══════════╪═══════════╪═══╪═══════════╪═══════════╪═══════════╪══════════╡\n",
      "│ 97ec6ab3d ┆ Whooster  ┆ HQ003422P ┆ DEPT OF   ┆ … ┆ USA       ┆           ┆ https://s ┆ The      │\n",
      "│ 5d4454192 ┆ Web-Based ┆ 0171      ┆ DEFENSE   ┆   ┆           ┆           ┆ am.gov/op ┆ Whooster │\n",
      "│ a8828827d ┆ Software  ┆           ┆           ┆   ┆           ┆           ┆ p/97ec6ab ┆ Web      │\n",
      "│ e6f…      ┆           ┆           ┆           ┆   ┆           ┆           ┆ 3d5…      ┆ Based    │\n",
      "│           ┆           ┆           ┆           ┆   ┆           ┆           ┆           ┆ Softwar… │\n",
      "│ c15a71483 ┆ Beckman   ┆ W81K0222Q ┆ DEPT OF   ┆ … ┆ USA       ┆           ┆ https://s ┆ The      │\n",
      "│ 17b44eeac ┆ Coulter   ┆ 0162      ┆ DEFENSE   ┆   ┆           ┆           ┆ am.gov/op ┆ Medical  │\n",
      "│ 210a7b640 ┆ Reagents  ┆           ┆           ┆   ┆           ┆           ┆ p/c15a714 ┆ Readines │\n",
      "│ 687…      ┆ and S…    ┆           ┆           ┆   ┆           ┆           ┆ 831…      ┆ s Contra │\n",
      "│           ┆           ┆           ┆           ┆   ┆           ┆           ┆           ┆ ct…      │\n",
      "│ bf103afa7 ┆ 8(a)      ┆ HQ003422C ┆ DEPT OF   ┆ … ┆ USA       ┆           ┆ https://s ┆ Direct   │\n",
      "│ b4b455bb1 ┆ WebEOC    ┆ 0130      ┆ DEFENSE   ┆   ┆           ┆           ┆ am.gov/op ┆ Award of │\n",
      "│ 541eb450e ┆ IL5 Cloud ┆           ┆           ┆   ┆           ┆           ┆ p/bf103af ┆ an 8(a)  │\n",
      "│ 381…      ┆ Services… ┆           ┆           ┆   ┆           ┆           ┆ a7b…      ┆ contra…  │\n",
      "│ d1619b008 ┆ Leslie    ┆ N4523A22R ┆ DEPT OF   ┆ … ┆ USA       ┆           ┆ https://s ┆ Puget    │\n",
      "│ 4ac4d4395 ┆ Valve     ┆ C04N81    ┆ DEFENSE   ┆   ┆           ┆           ┆ am.gov/op ┆ Sound    │\n",
      "│ 85b727343 ┆ IDIQ -    ┆           ┆           ┆   ┆           ┆           ┆ p/d1619b0 ┆ Naval    │\n",
      "│ b46…      ┆ Sources   ┆           ┆           ┆   ┆           ┆           ┆ 084…      ┆ Shipyard │\n",
      "│           ┆ So…       ┆           ┆           ┆   ┆           ┆           ┆           ┆ and…     │\n",
      "│ 48b6b2784 ┆ PFPA      ┆ HQ003422Q ┆ DEPT OF   ┆ … ┆ USA       ┆           ┆ https://s ┆ This     │\n",
      "│ 6bd415599 ┆ BALLISTIC ┆ 0206      ┆ DEFENSE   ┆   ┆           ┆           ┆ am.gov/op ┆ blanket  │\n",
      "│ 0cdc2f2be ┆ VEST AND  ┆           ┆           ┆   ┆           ┆           ┆ p/48b6b27 ┆ purchase │\n",
      "│ 335…      ┆ PLATES    ┆           ┆           ┆   ┆           ┆           ┆ 846…      ┆ agreemen │\n",
      "│           ┆           ┆           ┆           ┆   ┆           ┆           ┆           ┆ …        │\n",
      "│ …         ┆ …         ┆ …         ┆ …         ┆ … ┆ …         ┆ …         ┆ …         ┆ …        │\n",
      "│ 9f5c5ffbc ┆ Lease     ┆ N4008421T ┆ DEPT OF   ┆ … ┆ USA       ┆           ┆ https://s ┆ The Cont │\n",
      "│ f54482289 ┆ Vehicles  ┆ 2004      ┆ DEFENSE   ┆   ┆           ┆           ┆ am.gov/op ┆ ractor   │\n",
      "│ 7d81adf4d ┆ for       ┆           ┆           ┆   ┆           ┆           ┆ p/9f5c5ff ┆ shall    │\n",
      "│ 48a…      ┆ Marine    ┆           ┆           ┆   ┆           ┆           ┆ bcf…      ┆ provide  │\n",
      "│           ┆ Corp…     ┆           ┆           ┆   ┆           ┆           ┆           ┆ q…       │\n",
      "│ 2e2ab5512 ┆ Replace   ┆ W90VN921R ┆ DEPT OF   ┆ … ┆ USA       ┆           ┆ https://s ┆ REPLACE  │\n",
      "│ 120475dba ┆ Perimeter ┆ 0094      ┆ DEFENSE   ┆   ┆           ┆           ┆ am.gov/op ┆ PERIMETE │\n",
      "│ 81379f508 ┆ Boundary  ┆           ┆           ┆   ┆           ┆           ┆ p/2e2ab55 ┆ R        │\n",
      "│ 400…      ┆ Wal…      ┆           ┆           ┆   ┆           ┆           ┆ 121…      ┆ BOUNDARY │\n",
      "│           ┆           ┆           ┆           ┆   ┆           ┆           ┆           ┆ WAL…     │\n",
      "│ bb24f68bc ┆ Monaco    ┆ FA462121P ┆ DEPT OF   ┆ … ┆ USA       ┆           ┆ https://s ┆ The 22   │\n",
      "│ 7e542c7bf ┆ Upgrade,  ┆ 0062      ┆ DEFENSE   ┆   ┆           ┆           ┆ am.gov/op ┆ CES      │\n",
      "│ 1301c44fd ┆ McConnell ┆           ┆           ┆   ┆           ┆           ┆ p/bb24f68 ┆ requires │\n",
      "│ 0b1…      ┆ AFB       ┆           ┆           ┆   ┆           ┆           ┆ bc7…      ┆ Technolo │\n",
      "│           ┆           ┆           ┆           ┆   ┆           ┆           ┆           ┆ gy…      │\n",
      "│ 21c6761b8 ┆ Autosampl ┆ 12505B21Q ┆ AGRICULTU ┆ … ┆ USA       ┆           ┆ https://s ┆          │\n",
      "│ 2df4147b7 ┆ er -      ┆ 0247-Awar ┆ RE, DEPAR ┆   ┆           ┆           ┆ am.gov/op ┆          │\n",
      "│ 2d893cd89 ┆ Award     ┆ d         ┆ TMENT OF  ┆   ┆           ┆           ┆ p/21c6761 ┆          │\n",
      "│ 872…      ┆ Notice    ┆           ┆           ┆   ┆           ┆           ┆ b82…      ┆          │\n",
      "│ 4aabc1ad6 ┆ Tissue    ┆ 12505B21Q ┆ AGRICULTU ┆ … ┆ USA       ┆           ┆ https://s ┆          │\n",
      "│ 8094f32b4 ┆ Homogeniz ┆ 0221-Awar ┆ RE, DEPAR ┆   ┆           ┆           ┆ am.gov/op ┆          │\n",
      "│ 990846e29 ┆ er and    ┆ d         ┆ TMENT OF  ┆   ┆           ┆           ┆ p/4aabc1a ┆          │\n",
      "│ 95d…      ┆ Cooling…  ┆           ┆           ┆   ┆           ┆           ┆ d68…      ┆          │\n",
      "└───────────┴───────────┴───────────┴───────────┴───┴───────────┴───────────┴───────────┴──────────┘\n"
     ]
    },
    {
     "ename": "",
     "evalue": "",
     "output_type": "error",
     "traceback": [
      "\u001b[1;31mThe Kernel crashed while executing code in the current cell or a previous cell. \n",
      "\u001b[1;31mPlease review the code in the cell(s) to identify a possible cause of the failure. \n",
      "\u001b[1;31mClick <a href='https://aka.ms/vscodeJupyterKernelCrash'>here</a> for more info. \n",
      "\u001b[1;31mView Jupyter <a href='command:jupyter.viewOutput'>log</a> for further details."
     ]
    }
   ],
   "source": [
    "print(df2023)"
   ]
  },
  {
   "cell_type": "code",
   "execution_count": null,
   "metadata": {},
   "outputs": [],
   "source": [
    "# Apply LabelEncoder to each categorical column\n",
    "label_encoders = {}\n",
    "for col in categorical_cols:\n",
    "    le = LabelEncoder()\n",
    "    df2023 = df2023.with_columns([pl.Series(col, le.fit_transform(df2023[col].to_list()))])\n",
    "    label_encoders[col] = le\n",
    "\n",
    "# Ensure numerical columns are in the correct format\n",
    "\n",
    "df2023"
   ]
  },
  {
   "cell_type": "code",
   "execution_count": null,
   "metadata": {},
   "outputs": [],
   "source": [
    "# Separate numeric and non-numeric columns\n",
    "numeric_cols = df2023.select(pl.col(pl.Float64) | pl.col(pl.Int64)).columns\n",
    "non_numeric_cols = df2023.select(pl.col(pl.Utf8)).columns\n",
    "non_numeric_cols"
   ]
  },
  {
   "cell_type": "code",
   "execution_count": null,
   "metadata": {},
   "outputs": [],
   "source": [
    "# Impute missing values for numeric columns\n",
    "imputer = SimpleImputer(strategy='mean')\n",
    "imputer"
   ]
  },
  {
   "cell_type": "code",
   "execution_count": null,
   "metadata": {},
   "outputs": [],
   "source": [
    "df2023"
   ]
  },
  {
   "cell_type": "code",
   "execution_count": null,
   "metadata": {},
   "outputs": [],
   "source": [
    "\"\"\"\n",
    "Cell generated by Data Wrangler.\n",
    "\"\"\"\n",
    "def clean_data(df2023_df):\n",
    "    # Filter rows based on column: 'award_'\n",
    "    df2023_df = df2023_df[(df2023_df['award_'].notna()) & (df2023_df['award_'] != \"\")]\n",
    "    return df2023_df\n",
    "\n",
    "# Loaded variable 'df2023' from kernel state\n",
    "df2023_df = df2023.to_pandas()\n",
    "\n",
    "df2023_df_clean = clean_data(df2023_df.copy())\n",
    "df2023_df_clean.head()"
   ]
  },
  {
   "cell_type": "code",
   "execution_count": null,
   "metadata": {},
   "outputs": [],
   "source": [
    "df2023_df_clean.columns"
   ]
  },
  {
   "cell_type": "code",
   "execution_count": null,
   "metadata": {},
   "outputs": [],
   "source": [
    "# Define features and target\n",
    "X = df2023_df_clean.drop('award_', axis=1)\n",
    "y = df2023_df_clean['award_']\n",
    "\n",
    "# Split the data into training and testing sets\n",
    "X_train, X_test, y_train, y_test = train_test_split(X, y, test_size=0.2, random_state=42)\n"
   ]
  },
  {
   "cell_type": "code",
   "execution_count": null,
   "metadata": {},
   "outputs": [],
   "source": [
    "print(X_train)"
   ]
  },
  {
   "cell_type": "code",
   "execution_count": null,
   "metadata": {},
   "outputs": [],
   "source": [
    "print(X_test)"
   ]
  },
  {
   "cell_type": "code",
   "execution_count": null,
   "metadata": {},
   "outputs": [],
   "source": [
    "print(y_train)"
   ]
  },
  {
   "cell_type": "code",
   "execution_count": null,
   "metadata": {},
   "outputs": [],
   "source": [
    "print(y_test)"
   ]
  },
  {
   "cell_type": "code",
   "execution_count": null,
   "metadata": {},
   "outputs": [],
   "source": [
    "# Function to clean currency columns\n",
    "def clean_currency_columns(df):\n",
    "    currency_cols = df.columns[df.apply(lambda col: col.astype(str).str.contains(r'\\$').any())]\n",
    "    for col in currency_cols:\n",
    "        df[col] = df[col].str.replace('[\\$,]', '', regex=True).astype(float)\n",
    "    return df\n",
    "\n",
    "# Clean X_train and X_test\n",
    "X_train = clean_currency_columns(X_train)\n",
    "X_test = clean_currency_columns(X_test)\n"
   ]
  },
  {
   "cell_type": "code",
   "execution_count": null,
   "metadata": {},
   "outputs": [],
   "source": [
    "X_train"
   ]
  },
  {
   "cell_type": "code",
   "execution_count": null,
   "metadata": {},
   "outputs": [],
   "source": [
    "# Train XGBoost model with enable_categorical=True\n",
    "xgb_model = xgb.XGBRegressor(\n",
    "    objective='reg:squarederror',\n",
    "    n_estimators=100,\n",
    "    random_state=42,\n",
    "    enable_categorical=True\n",
    ")"
   ]
  },
  {
   "cell_type": "code",
   "execution_count": null,
   "metadata": {},
   "outputs": [],
   "source": [
    "X_train.columns"
   ]
  },
  {
   "cell_type": "code",
   "execution_count": null,
   "metadata": {},
   "outputs": [],
   "source": [
    "# Find columns starting with 'aw'\n",
    "a_columns = [col for col in X_train.columns if col.startswith('a')]\n",
    "print(\"Columns starting with 'aw':\", a_columns)\n",
    "\n",
    "# Display the first few rows of X_train\n",
    "print(X_train[a_columns])\n",
    "\n",
    "X_train=X_train[a_columns]"
   ]
  },
  {
   "cell_type": "code",
   "execution_count": null,
   "metadata": {},
   "outputs": [],
   "source": [
    "y_train.head()"
   ]
  },
  {
   "cell_type": "code",
   "execution_count": null,
   "metadata": {},
   "outputs": [],
   "source": [
    "# Remove '$' and ',' then convert to float\n",
    "y_train = y_train.str.replace(r'[\\$,]', '', regex=True).astype(float)\n",
    "y_test = y_test.str.replace(r'[\\$,]', '', regex=True).astype(float)"
   ]
  },
  {
   "cell_type": "code",
   "execution_count": null,
   "metadata": {},
   "outputs": [],
   "source": [
    "xgb_model.fit(\n",
    "    X_train,\n",
    "    y_train,\n",
    "    eval_set=[(X_test, y_test)],\n",
    "    verbose=True\n",
    ")"
   ]
  },
  {
   "cell_type": "code",
   "execution_count": null,
   "metadata": {
    "vscode": {
     "languageId": "markdown"
    }
   },
   "outputs": [],
   "source": [
    "# Check the number of columns\n",
    "print(\"Number of columns in X_train:\", X_train.shape[1])\n",
    "print(\"Number of columns in X_test:\", X_test.shape[1])\n",
    "\n",
    "# Check for column differences\n",
    "diff_train_test = set(X_train.columns) - set(X_test.columns)\n",
    "diff_test_train = set(X_test.columns) - set(X_train.columns)\n",
    "\n",
    "print(\"Columns in X_train not in X_test:\", diff_train_test)\n",
    "print(\"Columns in X_test not in X_train:\", diff_test_train)\n",
    "\n",
    "# Align X_test columns to X_train\n",
    "X_test = X_test[X_train.columns]\n",
    "\n",
    "# Fit the model\n",
    "xgb_model.fit(\n",
    "    X_train,\n",
    "    y_train,\n",
    "    eval_set=[(X_test, y_test)],\n",
    "    verbose=True\n",
    ")"
   ]
  },
  {
   "cell_type": "code",
   "execution_count": null,
   "metadata": {},
   "outputs": [],
   "source": [
    "xgb_predictions = xgb_model.predict(X_test)\n",
    "\n",
    "# Evaluate the model\n",
    "xgb_mse = mean_squared_error(y_test, xgb_predictions)\n",
    "xgb_r2 = r2_score(y_test, xgb_predictions)\n",
    "\n",
    "print(f\"XGBoost MSE: {xgb_mse}, R2: {xgb_r2}\")\n",
    "\n",
    "# Plot the results\n",
    "plt.figure(figsize=(7, 6))\n",
    "plt.scatter(y_test, xgb_predictions, alpha=0.3)\n",
    "plt.plot([y_test.min(), y_test.max()], [y_test.min(), y_test.max()], 'k--', lw=2)\n",
    "plt.xlabel('Actual')\n",
    "plt.ylabel('Predicted')\n",
    "plt.title('XGBoost Predictions')\n",
    "plt.show()"
   ]
  },
  {
   "cell_type": "code",
   "execution_count": null,
   "metadata": {
    "colab": {
     "base_uri": "https://localhost:8080/"
    },
    "id": "kEogld0L-wRD",
    "outputId": "c053a397-3dd8-48fd-ec2e-ad3dc6ecde65"
   },
   "outputs": [],
   "source": [
    "import pandas as pd\n",
    "\n",
    "def clean_column_names(df):\n",
    "    # Replace spaces and slashes with underscores\n",
    "    df.columns = [col.replace(' ', '_').replace('/', '_') for col in df.columns]\n",
    "    # Convert to lowercase\n",
    "    df.columns = [col.lower() for col in df.columns]\n",
    "    return df\n",
    "\n",
    "# Assuming df2023 is your DataFrame\n",
    "df2023 = clean_column_names(df)\n",
    "df2023.columns"
   ]
  },
  {
   "cell_type": "code",
   "execution_count": null,
   "metadata": {
    "colab": {
     "base_uri": "https://localhost:8080/"
    },
    "id": "7tN-Ha6QD3Tz",
    "outputId": "44a2ba9f-54e8-49b5-8610-bc193196d63e"
   },
   "outputs": [],
   "source": [
    "# Define prediction function to match provided columns\n",
    "def predict_popularity(title, department_agency, cgac, sub_tier, fpds_code, office, aac_code, posted_date, contract_type, base_type, archive_type, archive_date, set_aside_code, set_aside, response_deadline, naics_code, classification_code, pop_street_address, pop_city, pop_state, pop_zip, pop_country, active, award_number, award_date, award_amount, awardee, primary_contact_title, primary_contact_fullname, primary_contact_email, primary_contact_phone, primary_contact_fax, secondary_contact_title, secondary_contact_fullname, secondary_contact_email, secondary_contact_phone, secondary_contact_fax, organization_type, state, city, zip_code, country_code, additional_info_link, link, description):\n",
    "\n",
    "    # Hash specific text fields to match the model's expected input format\n",
    "    title_hashed = hash(str(title)) % 10**8\n",
    "    department_agency_hashed = hash(str(department_agency)) % 10**8\n",
    "    sub_tier_hashed = hash(str(sub_tier)) % 10**8\n",
    "    awardee_hashed = hash(str(awardee)) % 10**8\n",
    "\n",
    "    # Create a DataFrame for the input, matching the column names in X\n",
    "    input_data = pd.DataFrame([[\n",
    "        title_hashed, department_agency_hashed, cgac, sub_tier_hashed, fpds_code,\n",
    "        office, aac_code, posted_date, contract_type, base_type, archive_type, archive_date,\n",
    "        set_aside_code, set_aside, response_deadline, naics_code, classification_code,\n",
    "        pop_street_address, pop_city, pop_state, pop_zip, pop_country, active,\n",
    "        award_number, award_date, award_amount, awardee_hashed, primary_contact_title,\n",
    "        primary_contact_fullname, primary_contact_email, primary_contact_phone,\n",
    "        primary_contact_fax, secondary_contact_title, secondary_contact_fullname,\n",
    "        secondary_contact_email, secondary_contact_phone, secondary_contact_fax,\n",
    "        organization_type, state, city, zip_code, country_code, additional_info_link,\n",
    "        link, description\n",
    "    ]], columns=X.columns)\n",
    "\n",
    "    # Define numeric columns, if any, to normalize\n",
    "    # (Assume 'award_amount' as a numerical example, modify as needed based on your data)\n",
    "    numerical_cols = ['award_amount']\n",
    "    input_data[numerical_cols] = (input_data[numerical_cols] - X[numerical_cols].mean()) / X[numerical_cols].std()\n",
    "\n",
    "    # Return the DataFrame ready for prediction\n",
    "    return input_data\n"
   ]
  },
  {
   "cell_type": "code",
   "execution_count": null,
   "metadata": {
    "colab": {
     "base_uri": "https://localhost:8080/",
     "height": 1000
    },
    "id": "C1927wnk5sOf",
    "outputId": "420cdfe0-de97-4dea-cce1-545c4ea18116"
   },
   "outputs": [],
   "source": [
    "X_train.dtypes.to_frame('Data Type')"
   ]
  },
  {
   "cell_type": "code",
   "execution_count": null,
   "metadata": {
    "colab": {
     "base_uri": "https://localhost:8080/"
    },
    "id": "QCwkKFrk5sOf",
    "outputId": "a5770293-a7c6-4ec7-938f-769cdfa83b00"
   },
   "outputs": [],
   "source": [
    "# Missing values in each row\n",
    "missing_values_per_row = X_train.isnull().sum(axis=1)\n",
    "count_per_missing_value = missing_values_per_row.value_counts().sort_index()\n",
    "\n",
    "# Print the results\n",
    "for missing, rows in count_per_missing_value.items():\n",
    "    print(f'{rows} row(s) have {missing} missing values')\n",
    "\n",
    "total_rows_with_missing_values = (X_train.isnull().any(axis=1)).sum()\n",
    "print(f'Total number of rows with missing values: {total_rows_with_missing_values}')"
   ]
  },
  {
   "cell_type": "code",
   "execution_count": null,
   "metadata": {
    "colab": {
     "base_uri": "https://localhost:8080/"
    },
    "id": "2QKjQJUW5sOg",
    "outputId": "a1be440c-06ae-47d9-e23e-646f64fff978"
   },
   "outputs": [],
   "source": [
    "dist_numerical_cols = X_train.describe().T[['min', 'max']]\n",
    "dist_numerical_cols['Missing Values'] = X_train.isnull().sum()\n",
    "dist_numerical_cols['Missing Percentage'] = (X_train.isnull().mean() * 100).round(2)"
   ]
  },
  {
   "cell_type": "markdown",
   "metadata": {
    "id": "PwzKBvVW5sOg"
   },
   "source": [
    "The output shows that all numeric columns have a missing value percentage of 0, indicating that **there are no missing values** in these columns.\n",
    "\n",
    "To gain further insights into the data, we used the `describe()` method to generate a comprehensive statistical summary of the numerical columns."
   ]
  },
  {
   "cell_type": "markdown",
   "metadata": {
    "id": "AnpMuVji5sOg"
   },
   "source": [
    "**👉 Distribution of numerical columns**"
   ]
  },
  {
   "cell_type": "code",
   "execution_count": null,
   "metadata": {
    "colab": {
     "base_uri": "https://localhost:8080/",
     "height": 615
    },
    "id": "xOTMcm_-5sOg",
    "outputId": "816a23c1-f7b7-42d6-b634-b8bed31cc80e"
   },
   "outputs": [],
   "source": [
    "sns.set_style('darkgrid')\n",
    "sns.set(rc={\"axes.facecolor\":\"#F2EAC5\",\"figure.facecolor\":\"#F2EAC5\"})\n",
    "X_train.hist(figsize=(20,15), bins=30, xlabelsize=8, ylabelsize=8)\n",
    "plt.tight_layout()\n",
    "plt.show()"
   ]
  },
  {
   "cell_type": "code",
   "execution_count": null,
   "metadata": {
    "colab": {
     "base_uri": "https://localhost:8080/"
    },
    "id": "IMZHc0YoFOR-",
    "outputId": "fe8031c5-1732-46b6-e8f7-d103c8c2e218"
   },
   "outputs": [],
   "source": [
    "X_train.info()"
   ]
  },
  {
   "cell_type": "code",
   "execution_count": null,
   "metadata": {},
   "outputs": [],
   "source": [
    "# Import necessary libraries\n",
    "from sklearn.linear_model import Ridge\n",
    "from sklearn.metrics import mean_squared_error, r2_score, roc_auc_score, roc_curve\n",
    "import matplotlib.pyplot as plt\n",
    "import seaborn as sns"
   ]
  },
  {
   "cell_type": "code",
   "execution_count": null,
   "metadata": {},
   "outputs": [],
   "source": [
    "# Fit Random Forest model\n",
    "rf_model = RandomForestRegressor(n_estimators=100, random_state=42)\n",
    "rf_model.fit(X_train, y_train)\n",
    "rf_predictions = rf_model.predict(X_test)\n",
    "\n",
    "# Fit Ridge Regression model\n",
    "ridge_model = Ridge(alpha=1.0)\n",
    "ridge_model.fit(X_train, y_train)\n",
    "ridge_predictions = ridge_model.predict(X_test)\n",
    "\n",
    "# Evaluate the models\n",
    "rf_mse = mean_squared_error(y_test, rf_predictions)\n",
    "rf_r2 = r2_score(y_test, rf_predictions)\n",
    "\n",
    "ridge_mse = mean_squared_error(y_test, ridge_predictions)\n",
    "ridge_r2 = r2_score(y_test, ridge_predictions)\n",
    "\n",
    "print(f\"Random Forest MSE: {rf_mse}, R2: {rf_r2}\")\n",
    "print(f\"Ridge Regression MSE: {ridge_mse}, R2: {ridge_r2}\")\n"
   ]
  },
  {
   "cell_type": "code",
   "execution_count": null,
   "metadata": {},
   "outputs": [],
   "source": [
    "# Plot the results\n",
    "plt.figure(figsize=(14, 6))\n",
    "\n",
    "plt.subplot(1, 2, 1)\n",
    "plt.scatter(y_test, rf_predictions, alpha=0.3)\n",
    "plt.plot([y_test.min(), y_test.max()], [y_test.min(), y_test.max()], 'k--', lw=2)\n",
    "plt.xlabel('Actual')\n",
    "plt.ylabel('Predicted')\n",
    "plt.title('Random Forest Predictions')\n",
    "\n",
    "plt.subplot(1, 2, 2)\n",
    "plt.scatter(y_test, ridge_predictions, alpha=0.3)\n",
    "plt.plot([y_test.min(), y_test.max()], [y_test.min(), y_test.max()], 'k--', lw=2)\n",
    "plt.xlabel('Actual')\n",
    "plt.ylabel('Predicted')\n",
    "plt.title('Ridge Regression Predictions')\n",
    "\n",
    "plt.tight_layout()\n",
    "plt.show()"
   ]
  },
  {
   "cell_type": "markdown",
   "metadata": {
    "id": "4smzYIcg5sOm"
   },
   "source": [
    "🖥️ We use `matplotlib_venn` to plot the venn diagrams so we need to install it first (if not already installed)."
   ]
  }
 ],
 "metadata": {
  "colab": {
   "machine_shape": "hm",
   "provenance": []
  },
  "kaggle": {
   "accelerator": "none",
   "dataSources": [
    {
     "datasetId": 2570056,
     "sourceId": 4372070,
     "sourceType": "datasetVersion"
    }
   ],
   "dockerImageVersionId": 30626,
   "isGpuEnabled": false,
   "isInternetEnabled": true,
   "language": "python",
   "sourceType": "notebook"
  },
  "kernelspec": {
   "display_name": "gov-data",
   "language": "python",
   "name": "python3"
  },
  "language_info": {
   "codemirror_mode": {
    "name": "ipython",
    "version": 3
   },
   "file_extension": ".py",
   "mimetype": "text/x-python",
   "name": "python",
   "nbconvert_exporter": "python",
   "pygments_lexer": "ipython3",
   "version": "3.11.9"
  }
 },
 "nbformat": 4,
 "nbformat_minor": 0
}
